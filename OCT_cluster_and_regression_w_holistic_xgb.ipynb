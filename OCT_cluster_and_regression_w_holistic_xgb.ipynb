{
 "cells": [
  {
   "cell_type": "code",
   "execution_count": 1,
   "id": "1b45bcf4",
   "metadata": {},
   "outputs": [],
   "source": [
    "using Gurobi, StatsBase, CSV, DataFrames, \n",
    "    JuMP, LinearAlgebra, Distributions, Random,\n",
    "    GLMNet, ScikitLearn, MLBase, CategoricalArrays, Plots,\n",
    "    Dates, Clustering, Distances, StatsPlots, ProgressMeter"
   ]
  },
  {
   "cell_type": "code",
   "execution_count": 2,
   "id": "3cf7507b",
   "metadata": {},
   "outputs": [],
   "source": [
    "using Statistics"
   ]
  },
  {
   "cell_type": "code",
   "execution_count": 3,
   "id": "1059ed03",
   "metadata": {},
   "outputs": [],
   "source": [
    "ProgressMeter.ijulia_behavior(:clear);"
   ]
  },
  {
   "cell_type": "code",
   "execution_count": 4,
   "id": "187c1119",
   "metadata": {},
   "outputs": [],
   "source": [
    "ENV[\"COLUMNS\"] = 100;"
   ]
  },
  {
   "cell_type": "code",
   "execution_count": 5,
   "id": "26bec9ac",
   "metadata": {},
   "outputs": [
    {
     "name": "stdout",
     "output_type": "stream",
     "text": [
      "Set parameter Username\n",
      "Academic license - for non-commercial use only - expires 2023-08-18\n"
     ]
    }
   ],
   "source": [
    "const GUROBI_ENV = Gurobi.Env();"
   ]
  },
  {
   "cell_type": "markdown",
   "id": "612c403a",
   "metadata": {},
   "source": [
    "# Loading DataSets"
   ]
  },
  {
   "cell_type": "code",
   "execution_count": 6,
   "id": "19a614f3",
   "metadata": {},
   "outputs": [],
   "source": [
    "#data scaled in Excel.\n",
    "#Both scaled and original data divided into training/validation/test sets using Python and read here"
   ]
  },
  {
   "cell_type": "code",
   "execution_count": 7,
   "id": "77dc4e8d",
   "metadata": {},
   "outputs": [],
   "source": [
    "train = CSV.read(\"seed 40/train3.csv\", DataFrame);\n",
    "train_o = CSV.read(\"seed 40/train_o3.csv\", DataFrame);\n",
    "test = CSV.read(\"seed 40/test3.csv\", DataFrame);\n",
    "test_o = CSV.read(\"seed 40/test_o3.csv\", DataFrame);"
   ]
  },
  {
   "cell_type": "markdown",
   "id": "dbe47bcd",
   "metadata": {},
   "source": [
    "## Working with scaled data "
   ]
  },
  {
   "cell_type": "code",
   "execution_count": 8,
   "id": "e80d4ec8",
   "metadata": {},
   "outputs": [],
   "source": [
    "#Working with training data\n",
    "data_1 = copy(train);\n",
    "data_2 = copy(train);"
   ]
  },
  {
   "cell_type": "code",
   "execution_count": 9,
   "id": "2f61e265",
   "metadata": {
    "scrolled": false
   },
   "outputs": [
    {
     "data": {
      "text/plain": [
       "11-element Vector{String}:\n",
       " \"Column1\"\n",
       " \"neigborhood_cat\"\n",
       " \"room_type\"\n",
       " \"minimum_nights\"\n",
       " \"number_of_reviews\"\n",
       " \"reviews_per_month\"\n",
       " \"calculated_host_listings_count\"\n",
       " \"availability_365\"\n",
       " \"number_of_reviews_ltm\"\n",
       " \"days_since_last_review\"\n",
       " \"price\""
      ]
     },
     "execution_count": 9,
     "metadata": {},
     "output_type": "execute_result"
    }
   ],
   "source": [
    "#data_1: scaled data\n",
    "names(train)"
   ]
  },
  {
   "cell_type": "code",
   "execution_count": 10,
   "id": "cd0b3488",
   "metadata": {},
   "outputs": [],
   "source": [
    "#Removing extra columns\n",
    "data_1 = select!(data_1, Not([:Column1,:number_of_reviews_ltm]));\n",
    "data_2 = select!(data_2, Not([:Column1,:number_of_reviews_ltm]));"
   ]
  },
  {
   "cell_type": "code",
   "execution_count": 11,
   "id": "9dff4eef",
   "metadata": {},
   "outputs": [
    {
     "data": {
      "text/plain": [
       "one_hot_encoding (generic function with 1 method)"
      ]
     },
     "execution_count": 11,
     "metadata": {},
     "output_type": "execute_result"
    }
   ],
   "source": [
    "function one_hot_encoding(data_copy)\n",
    "    data_copy[!,:Pvt_room]=zeros(size(data_copy)[1]);\n",
    "    data_copy[!,:Hotel]=zeros(size(data_copy)[1]);\n",
    "    data_copy[!,:Shd_room]=zeros(size(data_copy)[1]);\n",
    "    data_copy[!,:High]=zeros(size(data_copy)[1]);\n",
    "    data_copy[!,:Mid_High]=zeros(size(data_copy)[1]);\n",
    "    data_copy[!,:Middle]=zeros(size(data_copy)[1]);\n",
    "    data_copy[!,:Mid_Low]=zeros(size(data_copy)[1]);\n",
    "    n= size(data_copy)[1]\n",
    "    for i =1:n\n",
    "        if data_copy[i,:room_type]==\"Private_room\"\n",
    "            data_copy[i,:Pvt_room]=1\n",
    "        elseif data_copy[i,:room_type]==\"Hotel room\"\n",
    "            data_copy[i,:Hotel]=1\n",
    "        elseif data_copy[i,:room_type]==\"Shared room\"\n",
    "             data_copy[i,:Shd_room]=1\n",
    "        end\n",
    "\n",
    "        if data_copy[i,:neigborhood_cat]==\"High\"\n",
    "            data_copy[i,:High]=1\n",
    "        elseif data_copy[i,:neigborhood_cat]==\"Mid-Low\"\n",
    "            data_copy[i,:Mid_Low]=1\n",
    "        elseif data_copy[i,:neigborhood_cat]==\"Middle\"\n",
    "            data_copy[i,:Middle]=1\n",
    "        elseif data_copy[i,:neigborhood_cat]==\"Mid-High\"\n",
    "            data_copy[i,:Mid_High]=1\n",
    "        end\n",
    "    end\n",
    "\n",
    "\n",
    "    return data_copy\n",
    "end\n"
   ]
  },
  {
   "cell_type": "markdown",
   "id": "018a1a9a",
   "metadata": {},
   "source": [
    "# Holistic Regression on entire data set"
   ]
  },
  {
   "cell_type": "code",
   "execution_count": 12,
   "id": "3e6af2b3",
   "metadata": {},
   "outputs": [
    {
     "data": {
      "text/plain": [
       "holistic_regression (generic function with 1 method)"
      ]
     },
     "execution_count": 12,
     "metadata": {},
     "output_type": "execute_result"
    }
   ],
   "source": [
    "#Fitting holistic regression on each dataset\n",
    "function holistic_regression(X, y, lambda, k, M; solver_output=0)\n",
    "    n,p = size(X)\n",
    "       \n",
    "    # Build model\n",
    "    model = Model(Gurobi.Optimizer)\n",
    "    set_optimizer_attribute(model, \"OutputFlag\", solver_output) \n",
    "    \n",
    "    # Insert variables\n",
    "    @variable(model, beta[j=1:p])\n",
    "    @variable(model, z[j=1:p], Bin)\n",
    "    @variable(model, t>=0)\n",
    "    @variable(model, a[j=1:p]>=0)\n",
    "    \n",
    "    #Insert constraints\n",
    "    #Linearize norm 1\n",
    "    @constraint(model,[j=1:p], beta[j]<=a[j])\n",
    "    @constraint(model,[j=1:p], -beta[j]<=a[j])\n",
    "    \n",
    "    #The residual term\n",
    "    @constraint(model, sum((y[i]-sum(X[i,j]*beta[j] for j=1:p))^2 for i=1:n) <= t)\n",
    "    \n",
    "    #Binary constraints\n",
    "    @constraint(model,[j=1:p], beta[j]<= M*z[j])\n",
    "    @constraint(model,[j=1:p], beta[j]>= (-1)*M*z[j])\n",
    "    \n",
    "    #Sparsity Constraint\n",
    "    @constraint(model, sum(z[j] for j=1:p)<=k)\n",
    "\n",
    "    #Group Sparsity\n",
    "    #@constraint(model, [j=1:Int64(floor(p/4))], sum(z[l] for l=(4(j-1)+1):(4(j-1)+4)) <=1) \n",
    "    \n",
    "    \n",
    "    #Multi-collinearity\n",
    "    #@constraint(model, [l=1:size(HC_i)[1]], (z[HC_i[l]] + z[HC_j[l]])<=1)\n",
    "    \n",
    "    #Objective\n",
    "    @objective(model, Min, t + lambda*sum(a[j] for j=1:p))\n",
    "    \n",
    "    # Optimize\n",
    "    optimize!(model)\n",
    "    \n",
    "    # Return estimated betas\n",
    "    return (value.(beta))\n",
    "end"
   ]
  },
  {
   "cell_type": "code",
   "execution_count": 13,
   "id": "32c62c8d",
   "metadata": {},
   "outputs": [
    {
     "data": {
      "text/plain": [
       "compute_mse (generic function with 1 method)"
      ]
     },
     "execution_count": 13,
     "metadata": {},
     "output_type": "execute_result"
    }
   ],
   "source": [
    "function compute_mse(X, y, beta)\n",
    "    n,p = size(X)\n",
    "    return sum((X*beta .- y).^2)/n\n",
    "end"
   ]
  },
  {
   "cell_type": "code",
   "execution_count": 14,
   "id": "23d10675",
   "metadata": {
    "scrolled": true
   },
   "outputs": [
    {
     "data": {
      "text/plain": [
       "compute_R2 (generic function with 1 method)"
      ]
     },
     "execution_count": 14,
     "metadata": {},
     "output_type": "execute_result"
    }
   ],
   "source": [
    "function compute_R2(X, y, beta)\n",
    "    n,p = size(X)\n",
    "    y_bar=mean(y)\n",
    "    SSE = sum((X*beta - y).^2)\n",
    "    SST = sum((y .- y_bar).^2)\n",
    "    return (1-(SSE/SST))\n",
    "    \n",
    "end"
   ]
  },
  {
   "cell_type": "code",
   "execution_count": 15,
   "id": "4c1bfecf",
   "metadata": {},
   "outputs": [
    {
     "data": {
      "text/plain": [
       "hypertuning (generic function with 1 method)"
      ]
     },
     "execution_count": 15,
     "metadata": {},
     "output_type": "execute_result"
    }
   ],
   "source": [
    "#Hypertuning the parameter lambda\n",
    "\n",
    "function hypertuning(lambda_vals,support,X,y; method=holistic_regression, solver_output=0)\n",
    "    \n",
    "    \n",
    "    #we create an array to hold the results\n",
    "    errors = zeros(length(lambda_vals),length(support))\n",
    "    \n",
    "    \n",
    "    for (i,lambda) in enumerate(lambda_vals)\n",
    "        for (j,k) in enumerate(support)\n",
    "            \n",
    "            #get the beta coefficients from the Lasso or Ridge regression\n",
    "            beta = method(X,y,lambda,k,30,solver_output=solver_output)\n",
    "            #compute the MSE with the optimal beta we just found\n",
    "            errors[i,j] = compute_mse(Matrix(X), y, beta)\n",
    "        end\n",
    "    end\n",
    "    \n",
    "    #get the best performing lambda\n",
    "    i_best = findmin(errors)[2][1]\n",
    "    j_best = findmin(errors)[2][2]\n",
    "    #beta_best = method(X,y,lambda_vals[i_best])\n",
    "    return lambda_vals[i_best], support[j_best]\n",
    "end"
   ]
  },
  {
   "cell_type": "code",
   "execution_count": 16,
   "id": "e0f52020",
   "metadata": {},
   "outputs": [],
   "source": [
    "lambda_vals = [.1,.2,.25,.4,.5,.6,.75,.8,.9,1]\n",
    "support = 4:14;"
   ]
  },
  {
   "cell_type": "code",
   "execution_count": 17,
   "id": "fb542a5d",
   "metadata": {},
   "outputs": [],
   "source": [
    "holistic_train_data= one_hot_encoding(data_1);"
   ]
  },
  {
   "cell_type": "code",
   "execution_count": 18,
   "id": "a078278e",
   "metadata": {},
   "outputs": [],
   "source": [
    "holistic_train_data= select!(holistic_train_data, Not([:neigborhood_cat,:room_type]));"
   ]
  },
  {
   "cell_type": "code",
   "execution_count": 19,
   "id": "f3799538",
   "metadata": {},
   "outputs": [
    {
     "name": "stdout",
     "output_type": "stream",
     "text": [
      "Set parameter Username\n",
      "Academic license - for non-commercial use only - expires 2023-08-18\n",
      "Set parameter Username\n",
      "Academic license - for non-commercial use only - expires 2023-08-18\n",
      "Set parameter Username\n",
      "Academic license - for non-commercial use only - expires 2023-08-18\n",
      "Set parameter Username\n",
      "Academic license - for non-commercial use only - expires 2023-08-18\n",
      "Set parameter Username\n",
      "Academic license - for non-commercial use only - expires 2023-08-18\n",
      "Set parameter Username\n",
      "Academic license - for non-commercial use only - expires 2023-08-18\n",
      "Set parameter Username\n",
      "Academic license - for non-commercial use only - expires 2023-08-18\n",
      "Set parameter Username\n",
      "Academic license - for non-commercial use only - expires 2023-08-18\n",
      "Set parameter Username\n",
      "Academic license - for non-commercial use only - expires 2023-08-18\n",
      "Set parameter Username\n",
      "Academic license - for non-commercial use only - expires 2023-08-18\n",
      "Set parameter Username\n",
      "Academic license - for non-commercial use only - expires 2023-08-18\n",
      "Set parameter Username\n",
      "Academic license - for non-commercial use only - expires 2023-08-18\n",
      "Set parameter Username\n",
      "Academic license - for non-commercial use only - expires 2023-08-18\n",
      "Set parameter Username\n",
      "Academic license - for non-commercial use only - expires 2023-08-18\n",
      "Set parameter Username\n",
      "Academic license - for non-commercial use only - expires 2023-08-18\n",
      "Set parameter Username\n",
      "Academic license - for non-commercial use only - expires 2023-08-18\n",
      "Set parameter Username\n",
      "Academic license - for non-commercial use only - expires 2023-08-18\n",
      "Set parameter Username\n",
      "Academic license - for non-commercial use only - expires 2023-08-18\n",
      "Set parameter Username\n",
      "Academic license - for non-commercial use only - expires 2023-08-18\n",
      "Set parameter Username\n",
      "Academic license - for non-commercial use only - expires 2023-08-18\n",
      "Set parameter Username\n",
      "Academic license - for non-commercial use only - expires 2023-08-18\n",
      "Set parameter Username\n",
      "Academic license - for non-commercial use only - expires 2023-08-18\n",
      "Set parameter Username\n",
      "Academic license - for non-commercial use only - expires 2023-08-18\n",
      "Set parameter Username\n",
      "Academic license - for non-commercial use only - expires 2023-08-18\n",
      "Set parameter Username\n",
      "Academic license - for non-commercial use only - expires 2023-08-18\n",
      "Set parameter Username\n",
      "Academic license - for non-commercial use only - expires 2023-08-18\n",
      "Set parameter Username\n",
      "Academic license - for non-commercial use only - expires 2023-08-18\n",
      "Set parameter Username\n",
      "Academic license - for non-commercial use only - expires 2023-08-18\n",
      "Set parameter Username\n",
      "Academic license - for non-commercial use only - expires 2023-08-18\n",
      "Set parameter Username\n",
      "Academic license - for non-commercial use only - expires 2023-08-18\n",
      "Set parameter Username\n",
      "Academic license - for non-commercial use only - expires 2023-08-18\n",
      "Set parameter Username\n",
      "Academic license - for non-commercial use only - expires 2023-08-18\n",
      "Set parameter Username\n",
      "Academic license - for non-commercial use only - expires 2023-08-18\n",
      "Set parameter Username\n",
      "Academic license - for non-commercial use only - expires 2023-08-18\n",
      "Set parameter Username\n",
      "Academic license - for non-commercial use only - expires 2023-08-18\n",
      "Set parameter Username\n",
      "Academic license - for non-commercial use only - expires 2023-08-18\n",
      "Set parameter Username\n",
      "Academic license - for non-commercial use only - expires 2023-08-18\n",
      "Set parameter Username\n",
      "Academic license - for non-commercial use only - expires 2023-08-18\n",
      "Set parameter Username\n",
      "Academic license - for non-commercial use only - expires 2023-08-18\n",
      "Set parameter Username\n",
      "Academic license - for non-commercial use only - expires 2023-08-18\n",
      "Set parameter Username\n",
      "Academic license - for non-commercial use only - expires 2023-08-18\n",
      "Set parameter Username\n",
      "Academic license - for non-commercial use only - expires 2023-08-18\n",
      "Set parameter Username\n",
      "Academic license - for non-commercial use only - expires 2023-08-18\n",
      "Set parameter Username\n",
      "Academic license - for non-commercial use only - expires 2023-08-18\n",
      "Set parameter Username\n",
      "Academic license - for non-commercial use only - expires 2023-08-18\n",
      "Set parameter Username\n",
      "Academic license - for non-commercial use only - expires 2023-08-18\n",
      "Set parameter Username\n",
      "Academic license - for non-commercial use only - expires 2023-08-18\n",
      "Set parameter Username\n",
      "Academic license - for non-commercial use only - expires 2023-08-18\n",
      "Set parameter Username\n",
      "Academic license - for non-commercial use only - expires 2023-08-18\n",
      "Set parameter Username\n",
      "Academic license - for non-commercial use only - expires 2023-08-18\n",
      "Set parameter Username\n",
      "Academic license - for non-commercial use only - expires 2023-08-18\n",
      "Set parameter Username\n",
      "Academic license - for non-commercial use only - expires 2023-08-18\n",
      "Set parameter Username\n",
      "Academic license - for non-commercial use only - expires 2023-08-18\n",
      "Set parameter Username\n",
      "Academic license - for non-commercial use only - expires 2023-08-18\n",
      "Set parameter Username\n",
      "Academic license - for non-commercial use only - expires 2023-08-18\n",
      "Set parameter Username\n",
      "Academic license - for non-commercial use only - expires 2023-08-18\n",
      "Set parameter Username\n",
      "Academic license - for non-commercial use only - expires 2023-08-18\n",
      "Set parameter Username\n",
      "Academic license - for non-commercial use only - expires 2023-08-18\n",
      "Set parameter Username\n",
      "Academic license - for non-commercial use only - expires 2023-08-18\n",
      "Set parameter Username\n",
      "Academic license - for non-commercial use only - expires 2023-08-18\n",
      "Set parameter Username\n",
      "Academic license - for non-commercial use only - expires 2023-08-18\n",
      "Set parameter Username\n",
      "Academic license - for non-commercial use only - expires 2023-08-18\n",
      "Set parameter Username\n",
      "Academic license - for non-commercial use only - expires 2023-08-18\n",
      "Set parameter Username\n",
      "Academic license - for non-commercial use only - expires 2023-08-18\n",
      "Set parameter Username\n",
      "Academic license - for non-commercial use only - expires 2023-08-18\n",
      "Set parameter Username\n",
      "Academic license - for non-commercial use only - expires 2023-08-18\n",
      "Set parameter Username\n",
      "Academic license - for non-commercial use only - expires 2023-08-18\n",
      "Set parameter Username\n",
      "Academic license - for non-commercial use only - expires 2023-08-18\n",
      "Set parameter Username\n",
      "Academic license - for non-commercial use only - expires 2023-08-18\n",
      "Set parameter Username\n",
      "Academic license - for non-commercial use only - expires 2023-08-18\n",
      "Set parameter Username\n",
      "Academic license - for non-commercial use only - expires 2023-08-18\n",
      "Set parameter Username\n",
      "Academic license - for non-commercial use only - expires 2023-08-18\n",
      "Set parameter Username\n",
      "Academic license - for non-commercial use only - expires 2023-08-18\n",
      "Set parameter Username\n",
      "Academic license - for non-commercial use only - expires 2023-08-18\n",
      "Set parameter Username\n",
      "Academic license - for non-commercial use only - expires 2023-08-18\n",
      "Set parameter Username\n",
      "Academic license - for non-commercial use only - expires 2023-08-18\n",
      "Set parameter Username\n",
      "Academic license - for non-commercial use only - expires 2023-08-18\n",
      "Set parameter Username\n",
      "Academic license - for non-commercial use only - expires 2023-08-18\n",
      "Set parameter Username\n",
      "Academic license - for non-commercial use only - expires 2023-08-18\n",
      "Set parameter Username\n",
      "Academic license - for non-commercial use only - expires 2023-08-18\n",
      "Set parameter Username\n",
      "Academic license - for non-commercial use only - expires 2023-08-18\n",
      "Set parameter Username\n",
      "Academic license - for non-commercial use only - expires 2023-08-18\n",
      "Set parameter Username\n",
      "Academic license - for non-commercial use only - expires 2023-08-18\n",
      "Set parameter Username\n",
      "Academic license - for non-commercial use only - expires 2023-08-18\n",
      "Set parameter Username\n",
      "Academic license - for non-commercial use only - expires 2023-08-18\n",
      "Set parameter Username\n",
      "Academic license - for non-commercial use only - expires 2023-08-18\n",
      "Set parameter Username\n",
      "Academic license - for non-commercial use only - expires 2023-08-18\n",
      "Set parameter Username\n",
      "Academic license - for non-commercial use only - expires 2023-08-18\n",
      "Set parameter Username\n",
      "Academic license - for non-commercial use only - expires 2023-08-18\n",
      "Set parameter Username\n",
      "Academic license - for non-commercial use only - expires 2023-08-18\n",
      "Set parameter Username\n",
      "Academic license - for non-commercial use only - expires 2023-08-18\n",
      "Set parameter Username\n",
      "Academic license - for non-commercial use only - expires 2023-08-18\n",
      "Set parameter Username\n",
      "Academic license - for non-commercial use only - expires 2023-08-18\n",
      "Set parameter Username\n",
      "Academic license - for non-commercial use only - expires 2023-08-18\n",
      "Set parameter Username\n",
      "Academic license - for non-commercial use only - expires 2023-08-18\n",
      "Set parameter Username\n",
      "Academic license - for non-commercial use only - expires 2023-08-18\n",
      "Set parameter Username\n",
      "Academic license - for non-commercial use only - expires 2023-08-18\n",
      "Set parameter Username\n",
      "Academic license - for non-commercial use only - expires 2023-08-18\n",
      "Set parameter Username\n",
      "Academic license - for non-commercial use only - expires 2023-08-18\n",
      "Set parameter Username\n",
      "Academic license - for non-commercial use only - expires 2023-08-18\n",
      "Set parameter Username\n",
      "Academic license - for non-commercial use only - expires 2023-08-18\n",
      "Set parameter Username\n",
      "Academic license - for non-commercial use only - expires 2023-08-18\n",
      "Set parameter Username\n",
      "Academic license - for non-commercial use only - expires 2023-08-18\n",
      "Set parameter Username\n",
      "Academic license - for non-commercial use only - expires 2023-08-18\n",
      "Set parameter Username\n",
      "Academic license - for non-commercial use only - expires 2023-08-18\n",
      "Set parameter Username\n",
      "Academic license - for non-commercial use only - expires 2023-08-18\n",
      "Set parameter Username\n",
      "Academic license - for non-commercial use only - expires 2023-08-18\n",
      "Set parameter Username\n",
      "Academic license - for non-commercial use only - expires 2023-08-18\n",
      "Set parameter Username\n",
      "Academic license - for non-commercial use only - expires 2023-08-18\n",
      "Set parameter Username\n",
      "Academic license - for non-commercial use only - expires 2023-08-18\n"
     ]
    },
    {
     "data": {
      "text/plain": [
       "(0.1, 12)"
      ]
     },
     "execution_count": 19,
     "metadata": {},
     "output_type": "execute_result"
    }
   ],
   "source": [
    "best_lambda, best_support = hypertuning(lambda_vals,support,select(holistic_train_data, Not([:price])),holistic_train_data[:,:price])"
   ]
  },
  {
   "cell_type": "code",
   "execution_count": 20,
   "id": "cf228a79",
   "metadata": {
    "scrolled": false
   },
   "outputs": [
    {
     "name": "stdout",
     "output_type": "stream",
     "text": [
      "Set parameter Username\n",
      "Academic license - for non-commercial use only - expires 2023-08-18\n"
     ]
    }
   ],
   "source": [
    "beta_entire_holistic = holistic_regression(select(holistic_train_data, Not([:price])),holistic_train_data[:,:price],\n",
    "    best_lambda,best_support,20);"
   ]
  },
  {
   "cell_type": "code",
   "execution_count": 21,
   "id": "46ce4873",
   "metadata": {
    "scrolled": true
   },
   "outputs": [
    {
     "data": {
      "text/plain": [
       "0.17146118803864774"
      ]
     },
     "execution_count": 21,
     "metadata": {},
     "output_type": "execute_result"
    }
   ],
   "source": [
    "entire_train_R2 = compute_R2(Matrix(select(holistic_train_data, Not([:price]))),\n",
    "    holistic_train_data[:,:price],beta_entire_holistic)"
   ]
  },
  {
   "cell_type": "code",
   "execution_count": 22,
   "id": "6f4e5ebc",
   "metadata": {},
   "outputs": [],
   "source": [
    "#Fitting holistic on test data\n",
    "holistic_test_data = copy(test);\n",
    "holistic_test_data= select!(holistic_test_data, Not([:Column1,:number_of_reviews_ltm]));\n"
   ]
  },
  {
   "cell_type": "code",
   "execution_count": 23,
   "id": "53dba8ba",
   "metadata": {},
   "outputs": [
    {
     "data": {
      "text/plain": [
       "9-element Vector{String}:\n",
       " \"neigborhood_cat\"\n",
       " \"room_type\"\n",
       " \"minimum_nights\"\n",
       " \"number_of_reviews\"\n",
       " \"reviews_per_month\"\n",
       " \"calculated_host_listings_count\"\n",
       " \"availability_365\"\n",
       " \"days_since_last_review\"\n",
       " \"price\""
      ]
     },
     "execution_count": 23,
     "metadata": {},
     "output_type": "execute_result"
    }
   ],
   "source": [
    "names(holistic_test_data)"
   ]
  },
  {
   "cell_type": "code",
   "execution_count": 24,
   "id": "4ec84224",
   "metadata": {},
   "outputs": [],
   "source": [
    "holistic_test_data= one_hot_encoding(holistic_test_data);"
   ]
  },
  {
   "cell_type": "code",
   "execution_count": 25,
   "id": "31a17109",
   "metadata": {},
   "outputs": [],
   "source": [
    "holistic_test_data= select!(holistic_test_data, Not([:neigborhood_cat,:room_type]));"
   ]
  },
  {
   "cell_type": "code",
   "execution_count": 26,
   "id": "111479b2",
   "metadata": {},
   "outputs": [
    {
     "data": {
      "text/plain": [
       "0.18262770366615833"
      ]
     },
     "execution_count": 26,
     "metadata": {},
     "output_type": "execute_result"
    }
   ],
   "source": [
    "entire_test_R2 = compute_R2(Matrix(select(holistic_test_data, Not([:price]))),\n",
    "    holistic_test_data[:,:price],beta_entire_holistic)"
   ]
  },
  {
   "cell_type": "markdown",
   "id": "97cd427a",
   "metadata": {},
   "source": [
    "# Clustering the Data"
   ]
  },
  {
   "cell_type": "markdown",
   "id": "2b9c2f86",
   "metadata": {},
   "source": [
    "We observe very different scales on the numerical data, so for those we can apply a min-max scaling\n",
    "\n",
    "$$\\frac{x_i-\\min x_i}{\\max x_i-\\min x_i}$$"
   ]
  },
  {
   "cell_type": "code",
   "execution_count": 27,
   "id": "95ca0344",
   "metadata": {},
   "outputs": [],
   "source": [
    "#Segregating numeric and categorical data\n",
    "cat_features = [1,2]\n",
    "num_features = [3,4,5,6,7,8,9];"
   ]
  },
  {
   "cell_type": "code",
   "execution_count": 28,
   "id": "29ef2ed1",
   "metadata": {},
   "outputs": [],
   "source": [
    "num_data = data_2[:,num_features]\n",
    "cat_data = data_2[:,cat_features];"
   ]
  },
  {
   "cell_type": "markdown",
   "id": "642e1b33",
   "metadata": {},
   "source": [
    "## Distance Matrix"
   ]
  },
  {
   "cell_type": "code",
   "execution_count": 29,
   "id": "6000bf4f",
   "metadata": {},
   "outputs": [],
   "source": [
    "#Let k=13 number of cluster\n",
    "k=13;"
   ]
  },
  {
   "cell_type": "code",
   "execution_count": 30,
   "id": "5cad6d6f",
   "metadata": {
    "scrolled": false
   },
   "outputs": [],
   "source": [
    "#select k random centroids\n",
    "Random.seed!(15095)\n",
    "n=size(train)[1]\n",
    "random_index = rand(k);"
   ]
  },
  {
   "cell_type": "code",
   "execution_count": 31,
   "id": "7cb46cba",
   "metadata": {},
   "outputs": [],
   "source": [
    "random_index = Int64.(ceil.(random_index.*n));"
   ]
  },
  {
   "cell_type": "code",
   "execution_count": 32,
   "id": "9d2a9348",
   "metadata": {
    "scrolled": true
   },
   "outputs": [],
   "source": [
    "centroids_data = data_2[random_index,:];"
   ]
  },
  {
   "cell_type": "code",
   "execution_count": 33,
   "id": "5a8925dd",
   "metadata": {},
   "outputs": [
    {
     "data": {
      "text/plain": [
       "distance_matrix (generic function with 1 method)"
      ]
     },
     "execution_count": 33,
     "metadata": {},
     "output_type": "execute_result"
    }
   ],
   "source": [
    "function distance_matrix(centroids_data,k,alpha)\n",
    "    #Calculating distance matrix nXk for numerical features as euclidean distance\n",
    "    n=size(data_2)[1]\n",
    "    distance_num = zeros(n,k);\n",
    "    for j=1:k\n",
    "        for i=1:n\n",
    "           for p=1:size(num_features)[1]\n",
    "                distance_num[i,j] = distance_num[i,j]+ \n",
    "                (num_data[i,p]-centroids_data[j,num_features[p]])^2\n",
    "            end\n",
    "            distance_num[i,j]=sqrt(distance_num[i,j])\n",
    "        end\n",
    "    end\n",
    "    #Calculating distance matrix nXk for categorical features as indicator function\n",
    "    #Distance (point i and centroid k) = Number of categorical variables with same value between i and k\n",
    "    distance_cat = zeros(n,k);\n",
    "    for j=1:k\n",
    "        for i=1:n\n",
    "           for p=1:size(cat_features)[1]\n",
    "                if cat_data[i,cat_features[p]]!=centroids_data[j,cat_features[p]]\n",
    "                    distance_cat[i,j]+=1\n",
    "                end\n",
    "            end\n",
    "\n",
    "        end\n",
    "    end\n",
    "    #Calculating final distance matrix as alpha*distance_num + (1-alpha)*distance_cat\n",
    "    #Ideally use cross validation to find alpha but for now use alpha = 0.5\n",
    "    distance_mat = alpha.*distance_num + (1-alpha).*distance_cat\n",
    "    return (distance_mat)\n",
    "end\n"
   ]
  },
  {
   "cell_type": "markdown",
   "id": "1d48f60e",
   "metadata": {},
   "source": [
    "## Clustering"
   ]
  },
  {
   "cell_type": "code",
   "execution_count": 34,
   "id": "a92d6fc4",
   "metadata": {},
   "outputs": [],
   "source": [
    "#We solve clustering as an optimization problem\n",
    "#We say that clustering stops when the total distance between points and their cluster centroids cannot be\n",
    "#reduced further. Tolerance = 1e-2"
   ]
  },
  {
   "cell_type": "code",
   "execution_count": 35,
   "id": "b71e6d2c",
   "metadata": {},
   "outputs": [],
   "source": [
    "tolerance = 1e-6;\n",
    "dist=0;\n",
    "alpha = 0.5;"
   ]
  },
  {
   "cell_type": "code",
   "execution_count": 36,
   "id": "efa2ad71",
   "metadata": {},
   "outputs": [],
   "source": [
    "clusters = Int64.(zeros(n));"
   ]
  },
  {
   "cell_type": "code",
   "execution_count": 37,
   "id": "2f578134",
   "metadata": {},
   "outputs": [],
   "source": [
    "train_data_with_clusters = copy(data_2);"
   ]
  },
  {
   "cell_type": "code",
   "execution_count": 38,
   "id": "93fa2eb3",
   "metadata": {},
   "outputs": [],
   "source": [
    "#Adding clusters column to the dataframe\n",
    "train_data_with_clusters[!, :Clusters] = clusters;"
   ]
  },
  {
   "cell_type": "code",
   "execution_count": 39,
   "id": "38b979de",
   "metadata": {
    "scrolled": false
   },
   "outputs": [
    {
     "data": {
      "text/plain": [
       "10-element Vector{String}:\n",
       " \"neigborhood_cat\"\n",
       " \"room_type\"\n",
       " \"minimum_nights\"\n",
       " \"number_of_reviews\"\n",
       " \"reviews_per_month\"\n",
       " \"calculated_host_listings_count\"\n",
       " \"availability_365\"\n",
       " \"days_since_last_review\"\n",
       " \"price\"\n",
       " \"Clusters\""
      ]
     },
     "execution_count": 39,
     "metadata": {},
     "output_type": "execute_result"
    }
   ],
   "source": [
    "names(train_data_with_clusters)"
   ]
  },
  {
   "cell_type": "code",
   "execution_count": 40,
   "id": "f11809c1",
   "metadata": {},
   "outputs": [],
   "source": [
    "dist_prev_iter = 1000000\n",
    "dist= 999999\n",
    "iterations = 0\n",
    "while (dist_prev_iter-dist)>tolerance   #while not convergence\n",
    "    \n",
    "    dist_prev_iter = dist\n",
    "    \n",
    "    #Get distances between points and centroids\n",
    "    distance = distance_matrix(centroids_data,k,alpha)\n",
    "    \n",
    "    #assign point to nearest cluster\n",
    "    for i=1:n\n",
    "        clusters[i]=findmin(distance[i,:])[2]\n",
    "    end\n",
    "    \n",
    "    #updating assignments in dataframe\n",
    "    train_data_with_clusters[!,:Clusters]=clusters\n",
    "    \n",
    "    #Calculating total distance based on cluster assignment\n",
    "    dist=0\n",
    "    for i=1:n\n",
    "        dist = dist + distance[i,clusters[i]]\n",
    "    end\n",
    "    dist = dist/n\n",
    "    #UPDATE CENTROIDS\n",
    "    #we average numerical features for all points in the cluster \n",
    "    #For categorical variable, we find the mode within the cluster\n",
    "    \n",
    "    for j=1:k\n",
    "        \n",
    "        #sum of numerical features for points in cluster j\n",
    "        temp_sum = zeros(size(num_features)[1])\n",
    "        for p=1:size(num_features)[1]\n",
    "           temp_sum[p]=sum(train_data_with_clusters[train_data_with_clusters[:,:Clusters].==j,num_features[p]])\n",
    "        end\n",
    "        #count the number of points in cluster j\n",
    "        count = sum(train_data_with_clusters[:,:Clusters].==j)\n",
    "    \n",
    "        #updating centroid j for each numerical feature with average\n",
    "        for p=1:size(num_features)[1]\n",
    "            centroids_data[j,num_features[p]]=temp_sum[p]/count\n",
    "        end\n",
    "        \n",
    "        #updating centroid j for each categorical feature with mode\n",
    "        for c=1:size(cat_features)[1]\n",
    "            temp_mode = StatsBase.mode(train_data_with_clusters[train_data_with_clusters[:,:Clusters].==j,cat_features[c]])\n",
    "            centroids_data[j,cat_features[c]]=temp_mode\n",
    "        end\n",
    "        \n",
    "    end\n",
    "    iterations+=1\n",
    "end\n",
    "\n",
    "    \n",
    "    "
   ]
  },
  {
   "cell_type": "code",
   "execution_count": 41,
   "id": "a972b573",
   "metadata": {},
   "outputs": [
    {
     "data": {
      "text/plain": [
       "27"
      ]
     },
     "execution_count": 41,
     "metadata": {},
     "output_type": "execute_result"
    }
   ],
   "source": [
    "iterations"
   ]
  },
  {
   "cell_type": "code",
   "execution_count": 158,
   "id": "e5b0c65d",
   "metadata": {
    "scrolled": false
   },
   "outputs": [
    {
     "name": "stdout",
     "output_type": "stream",
     "text": [
      "\n",
      "Cluster 1 : 2948\n",
      "Cluster 2 : 1571\n",
      "Cluster 3 : 2073\n",
      "Cluster 4 : 5043\n",
      "Cluster 5 : 5131\n",
      "Cluster 6 : 2659\n",
      "Cluster 7 : 1491\n",
      "Cluster 8 : 3073\n",
      "Cluster 9 : 3171\n",
      "Cluster 10 : 1923\n",
      "Cluster 11 : 1151\n",
      "Cluster 12 : 4568\n",
      "Cluster 13 : 5752"
     ]
    }
   ],
   "source": [
    "#Number of points in each cluster\n",
    "for j=1:k\n",
    "    count = sum(train_data_with_clusters[:,:Clusters].==j)\n",
    "    print(\"\\nCluster \", j, \" : \", count)\n",
    "end"
   ]
  },
  {
   "cell_type": "markdown",
   "id": "871aadb8",
   "metadata": {},
   "source": [
    "## Fitting an OCT to the cluster assignments"
   ]
  },
  {
   "cell_type": "markdown",
   "id": "d78e4908",
   "metadata": {},
   "source": [
    "data_oct = vcat(train_o,val_o);"
   ]
  },
  {
   "cell_type": "markdown",
   "id": "9d1ddf97",
   "metadata": {},
   "source": [
    "size(data_oct)"
   ]
  },
  {
   "cell_type": "markdown",
   "id": "e724a6a5",
   "metadata": {
    "scrolled": true
   },
   "source": [
    "typeof(clusters)"
   ]
  },
  {
   "cell_type": "markdown",
   "id": "cf49efdf",
   "metadata": {},
   "source": [
    "data_oct_use = select!(data_oct, Not([:Column1,:number_of_reviews_ltm]));"
   ]
  },
  {
   "cell_type": "markdown",
   "id": "370775a9",
   "metadata": {},
   "source": [
    "#data_oct_use is original unscaled data"
   ]
  },
  {
   "cell_type": "markdown",
   "id": "02011483",
   "metadata": {
    "scrolled": true
   },
   "source": [
    "names(data_oct_use)"
   ]
  },
  {
   "cell_type": "markdown",
   "id": "6a58c59f",
   "metadata": {},
   "source": [
    "data_oct_use[!,:room_type] = CategoricalArray(data_oct_use[:,:room_type]);\n",
    "data_oct_use[!,:neigborhood_cat] = CategoricalArray(new_data_oct_use[:,:neigborhood_cat]);"
   ]
  },
  {
   "cell_type": "markdown",
   "id": "c6c8ab9a",
   "metadata": {},
   "source": [
    "lnr = IAI.OptimalTreeClassifier(random_seed=1234)\n",
    "grid_oct = IAI.GridSearch(lnr,\n",
    "    max_depth=1:3,\n",
    "    minbucket=2500\n",
    ")\n",
    "IAI.fit!(grid_oct,data_oct_use,clusters);\n"
   ]
  },
  {
   "cell_type": "markdown",
   "id": "16ab5b0d",
   "metadata": {
    "scrolled": true
   },
   "source": [
    "lnr_oct = IAI.get_learner(grid_oct)"
   ]
  },
  {
   "cell_type": "markdown",
   "id": "ad264329",
   "metadata": {},
   "source": [
    "# Fitting regression model on each cluster"
   ]
  },
  {
   "cell_type": "code",
   "execution_count": 42,
   "id": "88c58272",
   "metadata": {
    "scrolled": false
   },
   "outputs": [
    {
     "data": {
      "text/plain": [
       "10-element Vector{String}:\n",
       " \"neigborhood_cat\"\n",
       " \"room_type\"\n",
       " \"minimum_nights\"\n",
       " \"number_of_reviews\"\n",
       " \"reviews_per_month\"\n",
       " \"calculated_host_listings_count\"\n",
       " \"availability_365\"\n",
       " \"days_since_last_review\"\n",
       " \"price\"\n",
       " \"Clusters\""
      ]
     },
     "execution_count": 42,
     "metadata": {},
     "output_type": "execute_result"
    }
   ],
   "source": [
    "names(train_data_with_clusters)"
   ]
  },
  {
   "cell_type": "code",
   "execution_count": 43,
   "id": "91986396",
   "metadata": {},
   "outputs": [],
   "source": [
    "#Segregating data for each cluster"
   ]
  },
  {
   "cell_type": "code",
   "execution_count": 44,
   "id": "f93a3e40",
   "metadata": {},
   "outputs": [],
   "source": [
    "data_copy = copy(train_data_with_clusters);"
   ]
  },
  {
   "cell_type": "code",
   "execution_count": 45,
   "id": "035c1f53",
   "metadata": {},
   "outputs": [],
   "source": [
    "data_copy = one_hot_encoding(data_copy);"
   ]
  },
  {
   "cell_type": "code",
   "execution_count": 46,
   "id": "4b8399a8",
   "metadata": {},
   "outputs": [
    {
     "data": {
      "text/plain": [
       "17-element Vector{String}:\n",
       " \"neigborhood_cat\"\n",
       " \"room_type\"\n",
       " \"minimum_nights\"\n",
       " \"number_of_reviews\"\n",
       " \"reviews_per_month\"\n",
       " \"calculated_host_listings_count\"\n",
       " \"availability_365\"\n",
       " \"days_since_last_review\"\n",
       " \"price\"\n",
       " \"Clusters\"\n",
       " \"Pvt_room\"\n",
       " \"Hotel\"\n",
       " \"Shd_room\"\n",
       " \"High\"\n",
       " \"Mid_High\"\n",
       " \"Middle\"\n",
       " \"Mid_Low\""
      ]
     },
     "execution_count": 46,
     "metadata": {},
     "output_type": "execute_result"
    }
   ],
   "source": [
    "names(data_copy)"
   ]
  },
  {
   "cell_type": "code",
   "execution_count": 47,
   "id": "da202fc3",
   "metadata": {},
   "outputs": [],
   "source": [
    "data_copy = select!(data_copy, Not([:neigborhood_cat,:room_type]));"
   ]
  },
  {
   "cell_type": "code",
   "execution_count": 48,
   "id": "4d6e1628",
   "metadata": {},
   "outputs": [
    {
     "data": {
      "text/plain": [
       "segregate_clusters (generic function with 1 method)"
      ]
     },
     "execution_count": 48,
     "metadata": {},
     "output_type": "execute_result"
    }
   ],
   "source": [
    "#segregating xgb_train_cluster\n",
    "function segregate_clusters(data,i)\n",
    "    cluster_data = data[data[:,:Clusters].==i,:];\n",
    "    return cluster_data\n",
    "end"
   ]
  },
  {
   "cell_type": "code",
   "execution_count": 49,
   "id": "65ed5b62",
   "metadata": {},
   "outputs": [],
   "source": [
    "#Segregating cluster data\n",
    "cluster_1 = segregate_clusters(data_copy,1)\n",
    "cluster_2 = segregate_clusters(data_copy,2)\n",
    "cluster_3 = segregate_clusters(data_copy,3)\n",
    "cluster_4 = segregate_clusters(data_copy,4)\n",
    "cluster_5 = segregate_clusters(data_copy,5)\n",
    "cluster_6 = segregate_clusters(data_copy,6)\n",
    "cluster_7 = segregate_clusters(data_copy,7)\n",
    "cluster_8 = segregate_clusters(data_copy,8)\n",
    "cluster_9 = segregate_clusters(data_copy,9)\n",
    "cluster_10 = segregate_clusters(data_copy,10)\n",
    "cluster_11 = segregate_clusters(data_copy,11)\n",
    "cluster_12 = segregate_clusters(data_copy,12)\n",
    "cluster_13 = segregate_clusters(data_copy,13);\n",
    "\n"
   ]
  },
  {
   "cell_type": "code",
   "execution_count": 50,
   "id": "9ae14834",
   "metadata": {},
   "outputs": [],
   "source": [
    "holistic_cluster_R2=zeros(k);\n",
    "i=1;\n",
    "a=1;"
   ]
  },
  {
   "cell_type": "code",
   "execution_count": 51,
   "id": "24beff52",
   "metadata": {
    "scrolled": false
   },
   "outputs": [
    {
     "name": "stdout",
     "output_type": "stream",
     "text": [
      "Set parameter Username\n",
      "Academic license - for non-commercial use only - expires 2023-08-18\n"
     ]
    }
   ],
   "source": [
    "#regression for cluster 1\n",
    "beta_1 = holistic_regression(select(cluster_1, Not([:Clusters,:price])),cluster_1[:,:price],best_lambda,best_support,20);\n",
    "holistic_cluster_R2[i]=compute_R2(Matrix(select(cluster_1, Not([:price,:Clusters]))),\n",
    "    cluster_1[:,:price],beta_1)\n",
    "i=i+a;"
   ]
  },
  {
   "cell_type": "code",
   "execution_count": 52,
   "id": "ca162302",
   "metadata": {
    "scrolled": false
   },
   "outputs": [
    {
     "name": "stdout",
     "output_type": "stream",
     "text": [
      "Set parameter Username\n",
      "Academic license - for non-commercial use only - expires 2023-08-18\n"
     ]
    }
   ],
   "source": [
    "#regression for cluster 2\n",
    "beta_2 = holistic_regression(select(cluster_2, Not([:Clusters,:price])),cluster_2[:,:price],best_lambda,best_support,20);\n",
    "holistic_cluster_R2[i]=compute_R2(Matrix(select(cluster_2, Not([:price,:Clusters]))),\n",
    "    cluster_2[:,:price],beta_2)\n",
    "i=i+a;"
   ]
  },
  {
   "cell_type": "code",
   "execution_count": 53,
   "id": "a52bb9bc",
   "metadata": {
    "scrolled": true
   },
   "outputs": [
    {
     "name": "stdout",
     "output_type": "stream",
     "text": [
      "Set parameter Username\n",
      "Academic license - for non-commercial use only - expires 2023-08-18\n"
     ]
    }
   ],
   "source": [
    "#regression for cluster 3\n",
    "beta_3 = holistic_regression(select(cluster_3, Not([:Clusters,:price])),cluster_3[:,:price],best_lambda,best_support,20);\n",
    "holistic_cluster_R2[i]=compute_R2(Matrix(select(cluster_3, Not([:price,:Clusters]))),\n",
    "    cluster_3[:,:price],beta_3)\n",
    "i=i+a;"
   ]
  },
  {
   "cell_type": "code",
   "execution_count": 54,
   "id": "6e0d98aa",
   "metadata": {
    "scrolled": false
   },
   "outputs": [
    {
     "name": "stdout",
     "output_type": "stream",
     "text": [
      "Set parameter Username\n",
      "Academic license - for non-commercial use only - expires 2023-08-18\n"
     ]
    }
   ],
   "source": [
    "#regression for cluster 4\n",
    "beta_4 = holistic_regression(select(cluster_4, Not([:Clusters,:price])),cluster_4[:,:price],best_lambda,best_support,20);\n",
    "holistic_cluster_R2[i]=compute_R2(Matrix(select(cluster_4, Not([:price,:Clusters]))),\n",
    "    cluster_4[:,:price],beta_4)\n",
    "i=i+a;"
   ]
  },
  {
   "cell_type": "code",
   "execution_count": 55,
   "id": "9d3c4390",
   "metadata": {
    "scrolled": false
   },
   "outputs": [
    {
     "name": "stdout",
     "output_type": "stream",
     "text": [
      "Set parameter Username\n",
      "Academic license - for non-commercial use only - expires 2023-08-18\n"
     ]
    }
   ],
   "source": [
    "#regression for cluster 5\n",
    "beta_5 = holistic_regression(select(cluster_5, Not([:Clusters,:price])),cluster_5[:,:price],best_lambda,best_support,20);\n",
    "holistic_cluster_R2[i]=compute_R2(Matrix(select(cluster_5, Not([:price,:Clusters]))),\n",
    "    cluster_5[:,:price],beta_5)\n",
    "i=i+a;"
   ]
  },
  {
   "cell_type": "code",
   "execution_count": 56,
   "id": "f0577aeb",
   "metadata": {
    "scrolled": false
   },
   "outputs": [
    {
     "name": "stdout",
     "output_type": "stream",
     "text": [
      "Set parameter Username\n",
      "Academic license - for non-commercial use only - expires 2023-08-18\n"
     ]
    }
   ],
   "source": [
    "#regression for cluster 6\n",
    "beta_6 = holistic_regression(select(cluster_6, Not([:Clusters,:price])),cluster_6[:,:price],best_lambda,best_support,20);\n",
    "holistic_cluster_R2[i]=compute_R2(Matrix(select(cluster_6, Not([:price,:Clusters]))),\n",
    "    cluster_6[:,:price],beta_6)\n",
    "i=i+a;"
   ]
  },
  {
   "cell_type": "code",
   "execution_count": 57,
   "id": "2f6af5ad",
   "metadata": {
    "scrolled": false
   },
   "outputs": [
    {
     "name": "stdout",
     "output_type": "stream",
     "text": [
      "Set parameter Username\n",
      "Academic license - for non-commercial use only - expires 2023-08-18\n"
     ]
    }
   ],
   "source": [
    "#regression for cluster 7\n",
    "beta_7 = holistic_regression(select(cluster_7, Not([:Clusters,:price])),cluster_7[:,:price],best_lambda,best_support,20);\n",
    "holistic_cluster_R2[i]=compute_R2(Matrix(select(cluster_7, Not([:price,:Clusters]))),\n",
    "    cluster_7[:,:price],beta_7)\n",
    "i=i+a;"
   ]
  },
  {
   "cell_type": "code",
   "execution_count": 58,
   "id": "12fbe735",
   "metadata": {
    "scrolled": false
   },
   "outputs": [
    {
     "name": "stdout",
     "output_type": "stream",
     "text": [
      "Set parameter Username\n",
      "Academic license - for non-commercial use only - expires 2023-08-18\n"
     ]
    }
   ],
   "source": [
    "#regression for cluster 8\n",
    "beta_8 = holistic_regression(select(cluster_8, Not([:Clusters,:price])),cluster_8[:,:price],best_lambda,best_support,20);\n",
    "holistic_cluster_R2[i]=compute_R2(Matrix(select(cluster_8, Not([:price,:Clusters]))),\n",
    "    cluster_8[:,:price],beta_8)\n",
    "i=i+a;"
   ]
  },
  {
   "cell_type": "code",
   "execution_count": 59,
   "id": "7c9f1e20",
   "metadata": {
    "scrolled": false
   },
   "outputs": [
    {
     "name": "stdout",
     "output_type": "stream",
     "text": [
      "Set parameter Username\n",
      "Academic license - for non-commercial use only - expires 2023-08-18\n"
     ]
    }
   ],
   "source": [
    "#regression for cluster 9\n",
    "beta_9 = holistic_regression(select(cluster_9, Not([:Clusters,:price])),cluster_9[:,:price],best_lambda,best_support,20);\n",
    "holistic_cluster_R2[i]=compute_R2(Matrix(select(cluster_9, Not([:price,:Clusters]))),\n",
    "    cluster_9[:,:price],beta_9)\n",
    "i=i+a;"
   ]
  },
  {
   "cell_type": "code",
   "execution_count": 60,
   "id": "15365b77",
   "metadata": {
    "scrolled": false
   },
   "outputs": [
    {
     "name": "stdout",
     "output_type": "stream",
     "text": [
      "Set parameter Username\n",
      "Academic license - for non-commercial use only - expires 2023-08-18\n"
     ]
    }
   ],
   "source": [
    "#regression for cluster 10\n",
    "beta_10 = holistic_regression(select(cluster_10, Not([:Clusters,:price])),cluster_10[:,:price],best_lambda,best_support,20);\n",
    "holistic_cluster_R2[i]=compute_R2(Matrix(select(cluster_10, Not([:price,:Clusters]))),\n",
    "    cluster_10[:,:price],beta_10)\n",
    "i=i+a;"
   ]
  },
  {
   "cell_type": "code",
   "execution_count": 61,
   "id": "d80698df",
   "metadata": {
    "scrolled": false
   },
   "outputs": [
    {
     "name": "stdout",
     "output_type": "stream",
     "text": [
      "Set parameter Username\n",
      "Academic license - for non-commercial use only - expires 2023-08-18\n"
     ]
    }
   ],
   "source": [
    "#regression for cluster 11\n",
    "beta_11 = holistic_regression(select(cluster_11, Not([:Clusters,:price])),cluster_11[:,:price],best_lambda,best_support,20);\n",
    "holistic_cluster_R2[i]=compute_R2(Matrix(select(cluster_11, Not([:price,:Clusters]))),\n",
    "    cluster_11[:,:price],beta_11)\n",
    "i=i+a;"
   ]
  },
  {
   "cell_type": "code",
   "execution_count": 62,
   "id": "5e87bf90",
   "metadata": {
    "scrolled": false
   },
   "outputs": [
    {
     "name": "stdout",
     "output_type": "stream",
     "text": [
      "Set parameter Username\n",
      "Academic license - for non-commercial use only - expires 2023-08-18\n"
     ]
    }
   ],
   "source": [
    "#regression for cluster 12\n",
    "beta_12 = holistic_regression(select(cluster_12, Not([:Clusters,:price])),cluster_12[:,:price],best_lambda,best_support,20);\n",
    "holistic_cluster_R2[i]=compute_R2(Matrix(select(cluster_12, Not([:price,:Clusters]))),\n",
    "    cluster_12[:,:price],beta_12)\n",
    "i=i+a;"
   ]
  },
  {
   "cell_type": "code",
   "execution_count": 63,
   "id": "810a14eb",
   "metadata": {
    "scrolled": false
   },
   "outputs": [
    {
     "name": "stdout",
     "output_type": "stream",
     "text": [
      "Set parameter Username\n",
      "Academic license - for non-commercial use only - expires 2023-08-18\n"
     ]
    }
   ],
   "source": [
    "#regression for cluster 13\n",
    "beta_13 = holistic_regression(select(cluster_13, Not([:Clusters,:price])),cluster_13[:,:price],best_lambda,best_support,20);\n",
    "holistic_cluster_R2[i]=compute_R2(Matrix(select(cluster_13, Not([:price,:Clusters]))),\n",
    "    cluster_13[:,:price],beta_13)\n",
    "i=i+a;"
   ]
  },
  {
   "cell_type": "code",
   "execution_count": 64,
   "id": "deff7dd1",
   "metadata": {
    "scrolled": true
   },
   "outputs": [
    {
     "data": {
      "text/plain": [
       "13-element Vector{Float64}:\n",
       " 0.0766697657774329\n",
       " 0.05279239641338496\n",
       " 0.06521945731720868\n",
       " 0.037219779802967645\n",
       " 0.14392706745320483\n",
       " 0.0802073499066891\n",
       " 0.07980649573078558\n",
       " 0.20720899334898435\n",
       " 0.0801659523434235\n",
       " 0.019414841851183695\n",
       " 0.6165562151886559\n",
       " 0.05587503145732453\n",
       " 0.10094953334059187"
      ]
     },
     "execution_count": 64,
     "metadata": {},
     "output_type": "execute_result"
    }
   ],
   "source": [
    "holistic_cluster_R2"
   ]
  },
  {
   "cell_type": "markdown",
   "id": "88fe86d3",
   "metadata": {},
   "source": [
    "## Test set predictions and evaluation"
   ]
  },
  {
   "cell_type": "markdown",
   "id": "ffc93a4a",
   "metadata": {},
   "source": [
    "Since the training predictions are very poor, we don't evaluate on test data"
   ]
  },
  {
   "cell_type": "markdown",
   "id": "ce37defc",
   "metadata": {},
   "source": [
    "# Fitting XGBoost on training data and testing data"
   ]
  },
  {
   "cell_type": "markdown",
   "id": "2cdb5813",
   "metadata": {},
   "source": [
    "## XGBoost Function"
   ]
  },
  {
   "cell_type": "code",
   "execution_count": 65,
   "id": "ad4f0f26",
   "metadata": {},
   "outputs": [
    {
     "data": {
      "text/plain": [
       "xgb_training (generic function with 1 method)"
      ]
     },
     "execution_count": 65,
     "metadata": {},
     "output_type": "execute_result"
    }
   ],
   "source": [
    "function xgb_training(X,y)\n",
    "\n",
    "    grid = IAI.GridSearch(\n",
    "        IAI.XGBoostRegressor(\n",
    "            random_seed=1,\n",
    "        ),\n",
    "        max_depth=range(2, 6),\n",
    "        num_round=[20, 50, 100],\n",
    "    )\n",
    "\n",
    "    IAI.fit_cv!(grid,X,y,n_folds=5)\n",
    "    return grid\n",
    "end\n",
    "\n"
   ]
  },
  {
   "cell_type": "markdown",
   "id": "16304a50",
   "metadata": {},
   "source": [
    "## Fitting XGBoost on entire data"
   ]
  },
  {
   "cell_type": "code",
   "execution_count": 66,
   "id": "9c732c72",
   "metadata": {},
   "outputs": [],
   "source": [
    "xgb_train = copy(train);"
   ]
  },
  {
   "cell_type": "code",
   "execution_count": 67,
   "id": "665f6dcb",
   "metadata": {},
   "outputs": [],
   "source": [
    "xgb_train = select!(xgb_train, Not([:Column1,:number_of_reviews_ltm]));"
   ]
  },
  {
   "cell_type": "code",
   "execution_count": 68,
   "id": "6af4d291",
   "metadata": {},
   "outputs": [],
   "source": [
    "xgb_train = one_hot_encoding(xgb_train);"
   ]
  },
  {
   "cell_type": "code",
   "execution_count": 69,
   "id": "f5954f79",
   "metadata": {
    "scrolled": true
   },
   "outputs": [
    {
     "data": {
      "text/plain": [
       "16-element Vector{String}:\n",
       " \"neigborhood_cat\"\n",
       " \"room_type\"\n",
       " \"minimum_nights\"\n",
       " \"number_of_reviews\"\n",
       " \"reviews_per_month\"\n",
       " \"calculated_host_listings_count\"\n",
       " \"availability_365\"\n",
       " \"days_since_last_review\"\n",
       " \"price\"\n",
       " \"Pvt_room\"\n",
       " \"Hotel\"\n",
       " \"Shd_room\"\n",
       " \"High\"\n",
       " \"Mid_High\"\n",
       " \"Middle\"\n",
       " \"Mid_Low\""
      ]
     },
     "execution_count": 69,
     "metadata": {},
     "output_type": "execute_result"
    }
   ],
   "source": [
    "names(xgb_train)"
   ]
  },
  {
   "cell_type": "code",
   "execution_count": 70,
   "id": "03db9775",
   "metadata": {},
   "outputs": [],
   "source": [
    "xgb_train= select!(xgb_train, Not([:neigborhood_cat,:room_type]));"
   ]
  },
  {
   "cell_type": "code",
   "execution_count": 71,
   "id": "7ecc2ab4",
   "metadata": {},
   "outputs": [
    {
     "ename": "LoadError",
     "evalue": "UndefVarError: IAI not defined",
     "output_type": "error",
     "traceback": [
      "UndefVarError: IAI not defined",
      "",
      "Stacktrace:",
      " [1] xgb_training(X::DataFrame, y::Vector{Float64})",
      "   @ Main ./In[65]:3",
      " [2] top-level scope",
      "   @ In[71]:2",
      " [3] eval",
      "   @ ./boot.jl:368 [inlined]",
      " [4] include_string(mapexpr::typeof(REPL.softscope), mod::Module, code::String, filename::String)",
      "   @ Base ./loading.jl:1428"
     ]
    }
   ],
   "source": [
    "#Fitting XGB model\n",
    "xgb_grid = xgb_training(select(xgb_train, Not([:price])),xgb_train[:,:price]);"
   ]
  },
  {
   "cell_type": "code",
   "execution_count": 72,
   "id": "2dcd3e0c",
   "metadata": {},
   "outputs": [
    {
     "ename": "LoadError",
     "evalue": "UndefVarError: IAI not defined",
     "output_type": "error",
     "traceback": [
      "UndefVarError: IAI not defined",
      "",
      "Stacktrace:",
      " [1] top-level scope",
      "   @ In[72]:2",
      " [2] eval",
      "   @ ./boot.jl:368 [inlined]",
      " [3] include_string(mapexpr::typeof(REPL.softscope), mod::Module, code::String, filename::String)",
      "   @ Base ./loading.jl:1428"
     ]
    }
   ],
   "source": [
    "#Looking at important variables\n",
    "xgb_lnr = IAI.get_learner(xgb_grid)\n",
    "IAI.variable_importance(xgb_lnr)"
   ]
  },
  {
   "cell_type": "code",
   "execution_count": 251,
   "id": "2b33e5ac",
   "metadata": {
    "scrolled": true
   },
   "outputs": [
    {
     "data": {
      "text/plain": [
       "0.49233486704011376"
      ]
     },
     "execution_count": 251,
     "metadata": {},
     "output_type": "execute_result"
    }
   ],
   "source": [
    "#Calculating training set R2\n",
    "train_R2 = IAI.score(xgb_lnr,select(xgb_train, Not([:price])),xgb_train[:,:price], criterion=:mse)"
   ]
  },
  {
   "cell_type": "code",
   "execution_count": 254,
   "id": "c86eb4cd",
   "metadata": {},
   "outputs": [],
   "source": [
    "#Making predictions on test set\n",
    "xgb_test = copy(test)\n",
    "xgb_test = select!(xgb_test, Not([:Column1,:number_of_reviews_ltm]))\n",
    "xgb_test = one_hot_encoding(xgb_test)\n",
    "xgb_test= select!(xgb_test, Not([:neigborhood_cat,:room_type]));"
   ]
  },
  {
   "cell_type": "code",
   "execution_count": 255,
   "id": "2a1a8b8e",
   "metadata": {},
   "outputs": [
    {
     "data": {
      "text/plain": [
       "0.3723888174337785"
      ]
     },
     "execution_count": 255,
     "metadata": {},
     "output_type": "execute_result"
    }
   ],
   "source": [
    "#Test set R2\n",
    "xgb_test_R2 = IAI.score(xgb_lnr,select(xgb_test, Not([:price])),xgb_test[:,:price], criterion=:mse)"
   ]
  },
  {
   "cell_type": "markdown",
   "id": "0bb100bc",
   "metadata": {},
   "source": [
    "## Predicting using XGBoost on clusters"
   ]
  },
  {
   "cell_type": "markdown",
   "id": "208e080e",
   "metadata": {},
   "source": [
    "## Segregating training data into clusters and training XGBoost for each "
   ]
  },
  {
   "cell_type": "code",
   "execution_count": 259,
   "id": "ef216263",
   "metadata": {},
   "outputs": [],
   "source": [
    "cluster_train_R2 = zeros(k)\n",
    "cluster_test_R2 = zeros(k);"
   ]
  },
  {
   "cell_type": "code",
   "execution_count": 260,
   "id": "1bcfe8a7",
   "metadata": {},
   "outputs": [],
   "source": [
    "i=1;"
   ]
  },
  {
   "cell_type": "code",
   "execution_count": 261,
   "id": "fa43387d",
   "metadata": {
    "scrolled": true
   },
   "outputs": [],
   "source": [
    "#Cluster 1\n",
    "xgb_train_1 = copy(cluster_1)\n",
    "xgb_grid_1 = xgb_training(select(xgb_train_1, Not([:price,:Clusters])),xgb_train_1[:,:price]);\n",
    "xgb_lnr_1 = IAI.get_learner(xgb_grid_1)\n",
    "R2 = IAI.score(xgb_lnr_1,select(xgb_train_1, Not([:price,:Clusters])),xgb_train_1[:,:price], criterion=:mse)\n",
    "cluster_train_R2[i]=R2\n",
    "i+=1;"
   ]
  },
  {
   "cell_type": "code",
   "execution_count": 262,
   "id": "e3c8dcde",
   "metadata": {},
   "outputs": [],
   "source": [
    "#Cluster 2\n",
    "xgb_train_2 = copy(cluster_2)\n",
    "xgb_grid_2 = xgb_training(select(xgb_train_2, Not([:price,:Clusters])),xgb_train_2[:,:price]);\n",
    "xgb_lnr_2 = IAI.get_learner(xgb_grid_2)\n",
    "R2 = IAI.score(xgb_lnr_2,select(xgb_train_2, Not([:price,:Clusters])),xgb_train_2[:,:price], criterion=:mse)\n",
    "cluster_train_R2[i]=R2\n",
    "i+=1;"
   ]
  },
  {
   "cell_type": "code",
   "execution_count": 263,
   "id": "3379d710",
   "metadata": {},
   "outputs": [],
   "source": [
    "#Cluster 3\n",
    "xgb_train_3 = copy(cluster_3)\n",
    "xgb_grid_3 = xgb_training(select(xgb_train_3, Not([:price,:Clusters])),xgb_train_3[:,:price]);\n",
    "xgb_lnr_3 = IAI.get_learner(xgb_grid_3)\n",
    "R2 = IAI.score(xgb_lnr_3,select(xgb_train_3, Not([:price,:Clusters])),xgb_train_3[:,:price], criterion=:mse)\n",
    "cluster_train_R2[i]=R2\n",
    "i+=1;"
   ]
  },
  {
   "cell_type": "code",
   "execution_count": 264,
   "id": "dfc0c861",
   "metadata": {},
   "outputs": [],
   "source": [
    "#Cluster 4\n",
    "xgb_train_4 = copy(cluster_4)\n",
    "xgb_grid_4 = xgb_training(select(xgb_train_4, Not([:price,:Clusters])),xgb_train_4[:,:price]);\n",
    "xgb_lnr_4 = IAI.get_learner(xgb_grid_4)\n",
    "R2 = IAI.score(xgb_lnr_4,select(xgb_train_4, Not([:price,:Clusters])),xgb_train_4[:,:price], criterion=:mse)\n",
    "cluster_train_R2[i]=R2\n",
    "i+=1;"
   ]
  },
  {
   "cell_type": "code",
   "execution_count": 265,
   "id": "92a00423",
   "metadata": {},
   "outputs": [],
   "source": [
    "#Cluster 5\n",
    "xgb_train_5 = copy(cluster_5)\n",
    "xgb_grid_5 = xgb_training(select(xgb_train_5, Not([:price,:Clusters])),xgb_train_5[:,:price]);\n",
    "xgb_lnr_5 = IAI.get_learner(xgb_grid_5)\n",
    "R2 = IAI.score(xgb_lnr_5,select(xgb_train_5, Not([:price,:Clusters])),xgb_train_5[:,:price], criterion=:mse)\n",
    "cluster_train_R2[i]=R2\n",
    "i+=1;"
   ]
  },
  {
   "cell_type": "code",
   "execution_count": 266,
   "id": "ecebb0c7",
   "metadata": {},
   "outputs": [],
   "source": [
    "#Cluster 6\n",
    "xgb_train_6 = copy(cluster_6)\n",
    "xgb_grid_6 = xgb_training(select(xgb_train_6, Not([:price,:Clusters])),xgb_train_6[:,:price]);\n",
    "xgb_lnr_6 = IAI.get_learner(xgb_grid_6)\n",
    "R2 = IAI.score(xgb_lnr_6,select(xgb_train_6, Not([:price,:Clusters])),xgb_train_6[:,:price], criterion=:mse)\n",
    "cluster_train_R2[i]=R2\n",
    "i+=1;"
   ]
  },
  {
   "cell_type": "code",
   "execution_count": 267,
   "id": "06487ff5",
   "metadata": {},
   "outputs": [],
   "source": [
    "#Cluster 7\n",
    "xgb_train_7 = copy(cluster_7)\n",
    "xgb_grid_7 = xgb_training(select(xgb_train_7, Not([:price,:Clusters])),xgb_train_7[:,:price]);\n",
    "xgb_lnr_7 = IAI.get_learner(xgb_grid_7)\n",
    "R2 = IAI.score(xgb_lnr_7,select(xgb_train_7, Not([:price,:Clusters])),xgb_train_7[:,:price], criterion=:mse)\n",
    "cluster_train_R2[i]=R2\n",
    "i+=1;"
   ]
  },
  {
   "cell_type": "code",
   "execution_count": 268,
   "id": "14dd2007",
   "metadata": {},
   "outputs": [],
   "source": [
    "#Cluster 8\n",
    "xgb_train_8 = copy(cluster_8)\n",
    "xgb_grid_8 = xgb_training(select(xgb_train_8, Not([:price,:Clusters])),xgb_train_8[:,:price]);\n",
    "xgb_lnr_8 = IAI.get_learner(xgb_grid_8)\n",
    "R2 = IAI.score(xgb_lnr_8,select(xgb_train_8, Not([:price,:Clusters])),xgb_train_8[:,:price], criterion=:mse)\n",
    "cluster_train_R2[i]=R2\n",
    "i+=1;"
   ]
  },
  {
   "cell_type": "code",
   "execution_count": 269,
   "id": "3d86b829",
   "metadata": {},
   "outputs": [],
   "source": [
    "#Cluster 9\n",
    "xgb_train_9 = copy(cluster_9)\n",
    "xgb_grid_9 = xgb_training(select(xgb_train_9, Not([:price,:Clusters])),xgb_train_9[:,:price]);\n",
    "xgb_lnr_9 = IAI.get_learner(xgb_grid_9)\n",
    "R2 = IAI.score(xgb_lnr_9,select(xgb_train_9, Not([:price,:Clusters])),xgb_train_9[:,:price], criterion=:mse)\n",
    "cluster_train_R2[i]=R2\n",
    "i+=1;"
   ]
  },
  {
   "cell_type": "code",
   "execution_count": 270,
   "id": "a19f009e",
   "metadata": {},
   "outputs": [],
   "source": [
    "#Cluster 10\n",
    "xgb_train_10 = copy(cluster_10)\n",
    "xgb_grid_10 = xgb_training(select(xgb_train_10, Not([:price,:Clusters])),xgb_train_10[:,:price]);\n",
    "xgb_lnr_10 = IAI.get_learner(xgb_grid_10)\n",
    "R2 = IAI.score(xgb_lnr_10,select(xgb_train_10, Not([:price,:Clusters])),xgb_train_10[:,:price], criterion=:mse)\n",
    "cluster_train_R2[i]=R2\n",
    "i+=1;"
   ]
  },
  {
   "cell_type": "code",
   "execution_count": 271,
   "id": "8a694f1c",
   "metadata": {},
   "outputs": [],
   "source": [
    "#Cluster 11\n",
    "xgb_train_11 = copy(cluster_11)\n",
    "xgb_grid_11 = xgb_training(select(xgb_train_11, Not([:price,:Clusters])),xgb_train_11[:,:price]);\n",
    "xgb_lnr_11 = IAI.get_learner(xgb_grid_11)\n",
    "R2 = IAI.score(xgb_lnr_11,select(xgb_train_11, Not([:price,:Clusters])),xgb_train_11[:,:price], criterion=:mse)\n",
    "cluster_train_R2[i]=R2\n",
    "i+=1;"
   ]
  },
  {
   "cell_type": "code",
   "execution_count": 272,
   "id": "cb7a0b5d",
   "metadata": {},
   "outputs": [],
   "source": [
    "#Cluster 12\n",
    "xgb_train_12 = copy(cluster_12)\n",
    "xgb_grid_12 = xgb_training(select(xgb_train_12, Not([:price,:Clusters])),xgb_train_12[:,:price]);\n",
    "xgb_lnr_12 = IAI.get_learner(xgb_grid_12)\n",
    "R2 = IAI.score(xgb_lnr_12,select(xgb_train_12, Not([:price,:Clusters])),xgb_train_12[:,:price], criterion=:mse)\n",
    "cluster_train_R2[i]=R2\n",
    "i+=1;"
   ]
  },
  {
   "cell_type": "code",
   "execution_count": 273,
   "id": "a9813e1b",
   "metadata": {},
   "outputs": [],
   "source": [
    "#Cluster 13\n",
    "xgb_train_13 = copy(cluster_13)\n",
    "xgb_grid_13 = xgb_training(select(xgb_train_13, Not([:price,:Clusters])),xgb_train_13[:,:price]);\n",
    "xgb_lnr_13 = IAI.get_learner(xgb_grid_13)\n",
    "R2 = IAI.score(xgb_lnr_13,select(xgb_train_13, Not([:price,:Clusters])),xgb_train_13[:,:price], criterion=:mse)\n",
    "cluster_train_R2[i]=R2;\n"
   ]
  },
  {
   "cell_type": "code",
   "execution_count": 274,
   "id": "4f977ddf",
   "metadata": {
    "scrolled": false
   },
   "outputs": [
    {
     "data": {
      "text/plain": [
       "13-element Vector{Float64}:\n",
       " 0.4948000798711403\n",
       " 0.6394512097129152\n",
       " 0.2287582863147628\n",
       " 0.3027928689369206\n",
       " 0.5693012736913479\n",
       " 0.6685306191625906\n",
       " 0.37456247789119446\n",
       " 0.2795041533197209\n",
       " 0.2691698063999177\n",
       " 0.5048811233409722\n",
       " 0.2965799464994775\n",
       " 0.34372920810174434\n",
       " 0.5694313664606441"
      ]
     },
     "execution_count": 274,
     "metadata": {},
     "output_type": "execute_result"
    }
   ],
   "source": [
    "#Viewing training R2\n",
    "cluster_train_R2"
   ]
  },
  {
   "cell_type": "markdown",
   "id": "7983d6ed",
   "metadata": {},
   "source": [
    "## Calculating centroids\n"
   ]
  },
  {
   "cell_type": "markdown",
   "id": "f6d8af11",
   "metadata": {},
   "source": [
    "To make predictions on test set, we first need to assign each test set to the cluster nearest to it and then apply the corresponding trained XGBoost model for the cluster on the test data."
   ]
  },
  {
   "cell_type": "code",
   "execution_count": 254,
   "id": "91f7ef76",
   "metadata": {},
   "outputs": [],
   "source": [
    "\n",
    "#xgb_train_i: training data belonging to cluster i, with Clusters column , 15 columns"
   ]
  },
  {
   "cell_type": "code",
   "execution_count": 277,
   "id": "2e2e6518",
   "metadata": {},
   "outputs": [
    {
     "data": {
      "text/plain": [
       "get_centroid (generic function with 1 method)"
      ]
     },
     "execution_count": 277,
     "metadata": {},
     "output_type": "execute_result"
    }
   ],
   "source": [
    "function get_centroid(cluster_data,i)\n",
    "    centroid = zeros(size(cluster_data)[2])\n",
    "    #centroid is average for numerical columns\n",
    "    centroid = mean.(eachcol(cluster_data))\n",
    "    #centroid is mode for categorical columns\n",
    "    centroid[8:14].=0\n",
    "    roomtype =[sum(cluster_data[:,8]),sum(cluster_data[:,9]),sum(cluster_data[:,10])]\n",
    "    neigh_cat = [sum(cluster_data[:,11]),sum(cluster_data[:,12]),sum(cluster_data[:,13]),sum(cluster_data[:,14])]\n",
    "    rtype = findmax(roomtype)[2]\n",
    "    ncat =  findmax(neigh_cat)[2]   \n",
    "    centroid[7+rtype]=1\n",
    "    centroid[10+ncat]=1\n",
    "    \n",
    "    return centroid\n",
    "end\n",
    "    "
   ]
  },
  {
   "cell_type": "code",
   "execution_count": 278,
   "id": "79196434",
   "metadata": {},
   "outputs": [
    {
     "data": {
      "text/plain": [
       "15-element Vector{String}:\n",
       " \"minimum_nights\"\n",
       " \"number_of_reviews\"\n",
       " \"reviews_per_month\"\n",
       " \"calculated_host_listings_count\"\n",
       " \"availability_365\"\n",
       " \"days_since_last_review\"\n",
       " \"price\"\n",
       " \"Clusters\"\n",
       " \"Pvt_room\"\n",
       " \"Hotel\"\n",
       " \"Shd_room\"\n",
       " \"High\"\n",
       " \"Mid_High\"\n",
       " \"Middle\"\n",
       " \"Mid_Low\""
      ]
     },
     "execution_count": 278,
     "metadata": {},
     "output_type": "execute_result"
    }
   ],
   "source": [
    "names(xgb_train_1)"
   ]
  },
  {
   "cell_type": "code",
   "execution_count": 279,
   "id": "636d31f9",
   "metadata": {},
   "outputs": [
    {
     "data": {
      "text/plain": [
       "(13, 14)"
      ]
     },
     "execution_count": 279,
     "metadata": {},
     "output_type": "execute_result"
    }
   ],
   "source": [
    "#creating a dataframe of centroids\n",
    "centroid_df= zeros(k,size(xgb_train_1)[2]-1)\n",
    "size(centroid_df)"
   ]
  },
  {
   "cell_type": "code",
   "execution_count": 280,
   "id": "4871b43d",
   "metadata": {},
   "outputs": [],
   "source": [
    "a=1;\n",
    "I=size(centroid_df)[2]; #14"
   ]
  },
  {
   "cell_type": "code",
   "execution_count": 281,
   "id": "a48a3b65",
   "metadata": {
    "scrolled": true
   },
   "outputs": [],
   "source": [
    "#Centroid 1\n",
    "centroid = get_centroid(select(xgb_train_1,Not([:Clusters])),1)\n",
    "for i=a:I\n",
    "    centroid_df[1,i]=centroid[i]\n",
    "end"
   ]
  },
  {
   "cell_type": "code",
   "execution_count": 282,
   "id": "68246960",
   "metadata": {
    "scrolled": true
   },
   "outputs": [],
   "source": [
    "#Centroid 2\n",
    "centroid = get_centroid(select(xgb_train_2,Not([:Clusters])),2)\n",
    "for i=a:I\n",
    "    centroid_df[2,i]=centroid[i]\n",
    "end"
   ]
  },
  {
   "cell_type": "code",
   "execution_count": 283,
   "id": "732c1855",
   "metadata": {},
   "outputs": [],
   "source": [
    "#Centroid 3\n",
    "centroid = get_centroid(select(xgb_train_3,Not([:Clusters])),3)\n",
    "for i=a:I\n",
    "    centroid_df[3,i]=centroid[i]\n",
    "end"
   ]
  },
  {
   "cell_type": "code",
   "execution_count": 284,
   "id": "c1dd4ac8",
   "metadata": {},
   "outputs": [],
   "source": [
    "#Centroid 4\n",
    "centroid = get_centroid(select(xgb_train_4,Not([:Clusters])),4)\n",
    "for i=a:I\n",
    "    centroid_df[4,i]=centroid[i]\n",
    "end"
   ]
  },
  {
   "cell_type": "code",
   "execution_count": 285,
   "id": "d065e795",
   "metadata": {},
   "outputs": [],
   "source": [
    "#Centroid 5\n",
    "centroid = get_centroid(select(xgb_train_5,Not([:Clusters])),5)\n",
    "for i=a:I\n",
    "    centroid_df[5,i]=centroid[i]\n",
    "end"
   ]
  },
  {
   "cell_type": "code",
   "execution_count": 286,
   "id": "bdc6297e",
   "metadata": {},
   "outputs": [],
   "source": [
    "#Centroid 6\n",
    "centroid = get_centroid(select(xgb_train_6,Not([:Clusters])),6)\n",
    "for i=a:I\n",
    "    centroid_df[6,i]=centroid[i]\n",
    "end"
   ]
  },
  {
   "cell_type": "code",
   "execution_count": 287,
   "id": "6019a770",
   "metadata": {},
   "outputs": [],
   "source": [
    "#Centroid 7\n",
    "centroid = get_centroid(select(xgb_train_7,Not([:Clusters])),7)\n",
    "for i=a:I\n",
    "    centroid_df[7,i]=centroid[i]\n",
    "end"
   ]
  },
  {
   "cell_type": "code",
   "execution_count": 288,
   "id": "ac4d7dd5",
   "metadata": {},
   "outputs": [],
   "source": [
    "#Centroid 8\n",
    "centroid = get_centroid(select(xgb_train_8,Not([:Clusters])),8)\n",
    "for i=a:I\n",
    "    centroid_df[8,i]=centroid[i]\n",
    "end"
   ]
  },
  {
   "cell_type": "code",
   "execution_count": 289,
   "id": "4acd9afa",
   "metadata": {},
   "outputs": [],
   "source": [
    "#Centroid 9\n",
    "centroid = get_centroid(select(xgb_train_9,Not([:Clusters])),9)\n",
    "for i=a:I\n",
    "    centroid_df[9,i]=centroid[i]\n",
    "end"
   ]
  },
  {
   "cell_type": "code",
   "execution_count": 290,
   "id": "75906b79",
   "metadata": {},
   "outputs": [],
   "source": [
    "#Centroid 10\n",
    "centroid = get_centroid(select(xgb_train_10,Not([:Clusters])),10)\n",
    "for i=a:I\n",
    "    centroid_df[10,i]=centroid[i]\n",
    "end"
   ]
  },
  {
   "cell_type": "code",
   "execution_count": 291,
   "id": "5a56d906",
   "metadata": {},
   "outputs": [],
   "source": [
    "#Centroid 11\n",
    "centroid = get_centroid(select(xgb_train_11,Not([:Clusters])),11)\n",
    "for i=a:I\n",
    "    centroid_df[11,i]=centroid[i]\n",
    "end"
   ]
  },
  {
   "cell_type": "code",
   "execution_count": 292,
   "id": "a9fc6ca5",
   "metadata": {},
   "outputs": [],
   "source": [
    "#Centroid 12\n",
    "centroid = get_centroid(select(xgb_train_12,Not([:Clusters])),12)\n",
    "for i=a:I\n",
    "    centroid_df[12,i]=centroid[i]\n",
    "end"
   ]
  },
  {
   "cell_type": "code",
   "execution_count": 293,
   "id": "62bb9d99",
   "metadata": {
    "scrolled": true
   },
   "outputs": [],
   "source": [
    "#Centroid 13\n",
    "centroid = get_centroid(select(xgb_train_13,Not([:Clusters])),13)\n",
    "for i=a:I\n",
    "    if i==8\n",
    "        centroid_df[13,i]= floor(centroid[i])\n",
    "    else \n",
    "        centroid_df[13,i]=centroid[i]\n",
    "    end\n",
    "end"
   ]
  },
  {
   "cell_type": "markdown",
   "id": "e78ab572",
   "metadata": {},
   "source": [
    "## Assigning each point in test set to nearest cluster"
   ]
  },
  {
   "cell_type": "code",
   "execution_count": 294,
   "id": "9855c03b",
   "metadata": {
    "scrolled": false
   },
   "outputs": [
    {
     "data": {
      "text/plain": [
       "(13, 14)"
      ]
     },
     "execution_count": 294,
     "metadata": {},
     "output_type": "execute_result"
    }
   ],
   "source": [
    "size(centroid_df)"
   ]
  },
  {
   "cell_type": "code",
   "execution_count": 295,
   "id": "8c9de87f",
   "metadata": {
    "scrolled": true
   },
   "outputs": [],
   "source": [
    "centroid_no_price = centroid_df[1:end, 1:end .!= 7];"
   ]
  },
  {
   "cell_type": "code",
   "execution_count": 296,
   "id": "14450e13",
   "metadata": {},
   "outputs": [
    {
     "data": {
      "text/plain": [
       "(13, 13)"
      ]
     },
     "execution_count": 296,
     "metadata": {},
     "output_type": "execute_result"
    }
   ],
   "source": [
    "size(centroid_no_price)"
   ]
  },
  {
   "cell_type": "code",
   "execution_count": 297,
   "id": "1dfe71a2",
   "metadata": {
    "scrolled": true
   },
   "outputs": [
    {
     "data": {
      "text/plain": [
       "14-element Vector{String}:\n",
       " \"minimum_nights\"\n",
       " \"number_of_reviews\"\n",
       " \"reviews_per_month\"\n",
       " \"calculated_host_listings_count\"\n",
       " \"availability_365\"\n",
       " \"days_since_last_review\"\n",
       " \"price\"\n",
       " \"Pvt_room\"\n",
       " \"Hotel\"\n",
       " \"Shd_room\"\n",
       " \"High\"\n",
       " \"Mid_High\"\n",
       " \"Middle\"\n",
       " \"Mid_Low\""
      ]
     },
     "execution_count": 297,
     "metadata": {},
     "output_type": "execute_result"
    }
   ],
   "source": [
    "names(xgb_test)"
   ]
  },
  {
   "cell_type": "code",
   "execution_count": 298,
   "id": "8ddb94b6",
   "metadata": {
    "scrolled": true
   },
   "outputs": [
    {
     "data": {
      "text/plain": [
       "13-element Vector{String}:\n",
       " \"minimum_nights\"\n",
       " \"number_of_reviews\"\n",
       " \"reviews_per_month\"\n",
       " \"calculated_host_listings_count\"\n",
       " \"availability_365\"\n",
       " \"days_since_last_review\"\n",
       " \"Pvt_room\"\n",
       " \"Hotel\"\n",
       " \"Shd_room\"\n",
       " \"High\"\n",
       " \"Mid_High\"\n",
       " \"Middle\"\n",
       " \"Mid_Low\""
      ]
     },
     "execution_count": 298,
     "metadata": {},
     "output_type": "execute_result"
    }
   ],
   "source": [
    "xgb_test_data=select(xgb_test,Not([:price]))\n",
    "names(xgb_test_data)"
   ]
  },
  {
   "cell_type": "code",
   "execution_count": 299,
   "id": "4314dadc",
   "metadata": {
    "scrolled": false
   },
   "outputs": [
    {
     "data": {
      "text/plain": [
       "(27036, 13)"
      ]
     },
     "execution_count": 299,
     "metadata": {},
     "output_type": "execute_result"
    }
   ],
   "source": [
    "size(xgb_test_data)"
   ]
  },
  {
   "cell_type": "code",
   "execution_count": 300,
   "id": "cfffeaa8",
   "metadata": {},
   "outputs": [],
   "source": [
    "n=size(xgb_test_data)[1]\n",
    "m=size(xgb_test_data)[2]\n",
    "test_cluster = zeros(n);"
   ]
  },
  {
   "cell_type": "code",
   "execution_count": 301,
   "id": "29c72a04",
   "metadata": {},
   "outputs": [],
   "source": [
    "#Assigning nearest cluster to each point in test dataset\n",
    "distance_mat = zeros(n,k)\n",
    "dist=0\n",
    "\n",
    "for i=1:n #data points\n",
    "    for j=1:k #Clusters\n",
    "        dist=0\n",
    "        for p=1:m #features in test data\n",
    "            dist = dist + (xgb_test_data[i,p]- centroid_no_price[j,p])^2\n",
    "        end\n",
    "        distance_mat[i,j] = dist/m\n",
    "    end\n",
    "    \n",
    "    test_cluster[i]=findmin(distance_mat[i,:])[2]\n",
    "end\n",
    "\n"
   ]
  },
  {
   "cell_type": "code",
   "execution_count": 302,
   "id": "eb4ca780",
   "metadata": {},
   "outputs": [],
   "source": [
    "test_cluster = Int64.(test_cluster);"
   ]
  },
  {
   "cell_type": "code",
   "execution_count": 303,
   "id": "53627f64",
   "metadata": {
    "scrolled": false
   },
   "outputs": [
    {
     "data": {
      "text/plain": [
       "15-element Vector{String}:\n",
       " \"minimum_nights\"\n",
       " \"number_of_reviews\"\n",
       " \"reviews_per_month\"\n",
       " \"calculated_host_listings_count\"\n",
       " \"availability_365\"\n",
       " \"days_since_last_review\"\n",
       " \"price\"\n",
       " \"Pvt_room\"\n",
       " \"Hotel\"\n",
       " \"Shd_room\"\n",
       " \"High\"\n",
       " \"Mid_High\"\n",
       " \"Middle\"\n",
       " \"Mid_Low\"\n",
       " \"Clusters\""
      ]
     },
     "execution_count": 303,
     "metadata": {},
     "output_type": "execute_result"
    }
   ],
   "source": [
    "xgb_test_cluster = xgb_test\n",
    "xgb_test_cluster[!,:Clusters]= test_cluster;\n",
    "names(xgb_test_cluster)"
   ]
  },
  {
   "cell_type": "code",
   "execution_count": 304,
   "id": "263e59f4",
   "metadata": {},
   "outputs": [],
   "source": [
    "#Segregating test data into clusters and evaluating R2 on each\n",
    "i=1;\n",
    "cluster_test_R2 = zeros(k);"
   ]
  },
  {
   "cell_type": "code",
   "execution_count": 306,
   "id": "d0aa004c",
   "metadata": {},
   "outputs": [
    {
     "data": {
      "text/plain": [
       "compute_R2_2 (generic function with 1 method)"
      ]
     },
     "execution_count": 306,
     "metadata": {},
     "output_type": "execute_result"
    }
   ],
   "source": [
    "function compute_R2_2(y, y_pred)\n",
    "    \n",
    "    y_bar=mean(y)\n",
    "    SSE = sum((y_pred - y).^2)\n",
    "    SST = sum((y .- y_bar).^2)\n",
    "    return (1-(SSE/SST))\n",
    "    \n",
    "end\n"
   ]
  },
  {
   "cell_type": "code",
   "execution_count": 307,
   "id": "891f287f",
   "metadata": {
    "scrolled": true
   },
   "outputs": [],
   "source": [
    "#Cluster 1\n",
    "xgb_test_1 = segregate_clusters(xgb_test_cluster,1)\n",
    "xgb_test_1_price = IAI.predict(xgb_lnr_1,select(xgb_test_1,Not([:Clusters,:price])))\n",
    "R2 = compute_R2_2(xgb_test_1[:,:price],xgb_test_1_price)\n",
    "cluster_test_R2[i]=R2\n",
    "i+=1;"
   ]
  },
  {
   "cell_type": "code",
   "execution_count": 308,
   "id": "1fac07b7",
   "metadata": {},
   "outputs": [
    {
     "data": {
      "text/plain": [
       "0.013392675716019764"
      ]
     },
     "execution_count": 308,
     "metadata": {},
     "output_type": "execute_result"
    }
   ],
   "source": [
    "R2"
   ]
  },
  {
   "cell_type": "code",
   "execution_count": 309,
   "id": "afbc8017",
   "metadata": {},
   "outputs": [],
   "source": [
    "#Cluster 2\n",
    "xgb_test_2 = segregate_clusters(xgb_test_cluster,2)\n",
    "xgb_test_2_price = IAI.predict(xgb_lnr_2,select(xgb_test_2,Not([:price,:Clusters])))\n",
    "R2 = compute_R2_2(xgb_test_2[:,:price],xgb_test_2_price)\n",
    "cluster_test_R2[i]=R2\n",
    "i+=1;"
   ]
  },
  {
   "cell_type": "code",
   "execution_count": 310,
   "id": "d88cff42",
   "metadata": {},
   "outputs": [],
   "source": [
    "#Cluster 3\n",
    "xgb_test_3 = segregate_clusters(xgb_test_cluster,3)\n",
    "xgb_test_3_price = IAI.predict(xgb_lnr_3,select(xgb_test_3,Not([:price,:Clusters])))\n",
    "R2 = compute_R2_2(xgb_test_3[:,:price],xgb_test_3_price)\n",
    "cluster_test_R2[i]=R2\n",
    "i+=1;"
   ]
  },
  {
   "cell_type": "code",
   "execution_count": 311,
   "id": "c8a991d9",
   "metadata": {},
   "outputs": [],
   "source": [
    "#Cluster 4\n",
    "xgb_test_4 = segregate_clusters(xgb_test_cluster,4)\n",
    "xgb_test_4_price = IAI.predict(xgb_lnr_4,select(xgb_test_4,Not([:price,:Clusters])))\n",
    "R2 = compute_R2_2(xgb_test_4[:,:price],xgb_test_4_price)\n",
    "cluster_test_R2[i]=R2\n",
    "i+=1;"
   ]
  },
  {
   "cell_type": "code",
   "execution_count": 312,
   "id": "d699cce4",
   "metadata": {},
   "outputs": [],
   "source": [
    "#Cluster 5\n",
    "xgb_test_5 = segregate_clusters(xgb_test_cluster,5)\n",
    "xgb_test_5_price = IAI.predict(xgb_lnr_5,select(xgb_test_5,Not([:price,:Clusters])))\n",
    "R2 = compute_R2_2(xgb_test_5[:,:price],xgb_test_5_price)\n",
    "cluster_test_R2[i]=R2\n",
    "i+=1;"
   ]
  },
  {
   "cell_type": "code",
   "execution_count": 313,
   "id": "69cf0853",
   "metadata": {},
   "outputs": [],
   "source": [
    "#Cluster 6\n",
    "xgb_test_6 = segregate_clusters(xgb_test_cluster,6)\n",
    "xgb_test_6_price = IAI.predict(xgb_lnr_6,select(xgb_test_6,Not([:price,:Clusters])))\n",
    "R2 = compute_R2_2(xgb_test_6[:,:price],xgb_test_6_price)\n",
    "cluster_test_R2[i]=R2\n",
    "i+=1;"
   ]
  },
  {
   "cell_type": "code",
   "execution_count": 314,
   "id": "969dfdbe",
   "metadata": {},
   "outputs": [],
   "source": [
    "#Cluster 7\n",
    "xgb_test_7 = segregate_clusters(xgb_test_cluster,7)\n",
    "xgb_test_7_price = IAI.predict(xgb_lnr_7,select(xgb_test_7,Not([:price,:Clusters])))\n",
    "R2 = compute_R2_2(xgb_test_7[:,:price],xgb_test_7_price)\n",
    "cluster_test_R2[i]=R2\n",
    "i+=1;"
   ]
  },
  {
   "cell_type": "code",
   "execution_count": 315,
   "id": "91adb4a4",
   "metadata": {},
   "outputs": [],
   "source": [
    "#Cluster 8\n",
    "xgb_test_8 = segregate_clusters(xgb_test_cluster,8)\n",
    "xgb_test_8_price = IAI.predict(xgb_lnr_8,select(xgb_test_8,Not([:price,:Clusters])))\n",
    "R2 = compute_R2_2(xgb_test_8[:,:price],xgb_test_8_price)\n",
    "cluster_test_R2[i]=R2\n",
    "i+=1;"
   ]
  },
  {
   "cell_type": "code",
   "execution_count": 316,
   "id": "3f098e2d",
   "metadata": {},
   "outputs": [],
   "source": [
    "#Cluster 9\n",
    "xgb_test_9 = segregate_clusters(xgb_test_cluster,9)\n",
    "xgb_test_9_price = IAI.predict(xgb_lnr_9,select(xgb_test_9,Not([:price,:Clusters])))\n",
    "R2 = compute_R2_2(xgb_test_9[:,:price],xgb_test_9_price)\n",
    "cluster_test_R2[i]=R2\n",
    "i+=1;"
   ]
  },
  {
   "cell_type": "code",
   "execution_count": 317,
   "id": "9a64c861",
   "metadata": {},
   "outputs": [],
   "source": [
    "#Cluster 10\n",
    "xgb_test_10 = segregate_clusters(xgb_test_cluster,10)\n",
    "xgb_test_10_price = IAI.predict(xgb_lnr_10,select(xgb_test_10,Not([:price,:Clusters])))\n",
    "R2 = compute_R2_2(xgb_test_10[:,:price],xgb_test_10_price)\n",
    "cluster_test_R2[i]=R2\n",
    "i+=1;"
   ]
  },
  {
   "cell_type": "code",
   "execution_count": 318,
   "id": "7fb94e01",
   "metadata": {},
   "outputs": [],
   "source": [
    "#Cluster 11\n",
    "xgb_test_11 = segregate_clusters(xgb_test_cluster,11)\n",
    "xgb_test_11_price = IAI.predict(xgb_lnr_11,select(xgb_test_11,Not([:price,:Clusters])))\n",
    "R2 = compute_R2_2(xgb_test_11[:,:price],xgb_test_11_price)\n",
    "cluster_test_R2[i]=R2\n",
    "i+=1;"
   ]
  },
  {
   "cell_type": "code",
   "execution_count": 319,
   "id": "66017e17",
   "metadata": {},
   "outputs": [],
   "source": [
    "#Cluster 12\n",
    "xgb_test_12 = segregate_clusters(xgb_test_cluster,12)\n",
    "xgb_test_12_price = IAI.predict(xgb_lnr_12,select(xgb_test_12,Not([:price,:Clusters])))\n",
    "R2 = compute_R2_2(xgb_test_12[:,:price],xgb_test_12_price)\n",
    "cluster_test_R2[i]=R2\n",
    "i+=1;"
   ]
  },
  {
   "cell_type": "code",
   "execution_count": 320,
   "id": "c6ed85de",
   "metadata": {},
   "outputs": [],
   "source": [
    "#Cluster 13\n",
    "xgb_test_13 = segregate_clusters(xgb_test_cluster,13)\n",
    "xgb_test_13_price = IAI.predict(xgb_lnr_13,select(xgb_test_13,Not([:price,:Clusters])))\n",
    "R2 = compute_R2_2(xgb_test_13[:,:price],xgb_test_13_price)\n",
    "cluster_test_R2[i]=R2\n",
    "i+=1;"
   ]
  },
  {
   "cell_type": "code",
   "execution_count": 321,
   "id": "2aae55ac",
   "metadata": {},
   "outputs": [
    {
     "data": {
      "text/plain": [
       "13-element Vector{Float64}:\n",
       "  0.013392675716019764\n",
       " -0.17389332739783492\n",
       " -0.08539618279155303\n",
       " -0.02623372085358877\n",
       "  0.15195689058137263\n",
       " -0.2990085736126067\n",
       "  0.07175362146091069\n",
       " -0.08080225402439178\n",
       "  0.06870905575500186\n",
       " -0.02867758650628316\n",
       " -0.3373816797515461\n",
       " -0.3104650269566325\n",
       " -0.3251057599472511"
      ]
     },
     "execution_count": 321,
     "metadata": {},
     "output_type": "execute_result"
    }
   ],
   "source": [
    "#Cluster wise test set R2\n",
    "cluster_test_R2"
   ]
  }
 ],
 "metadata": {
  "kernelspec": {
   "display_name": "Julia 1.8.2",
   "language": "julia",
   "name": "julia-1.8"
  },
  "language_info": {
   "file_extension": ".jl",
   "mimetype": "application/julia",
   "name": "julia",
   "version": "1.8.2"
  }
 },
 "nbformat": 4,
 "nbformat_minor": 5
}
