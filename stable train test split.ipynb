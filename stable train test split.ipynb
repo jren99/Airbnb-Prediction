{
 "cells": [
  {
   "cell_type": "code",
   "execution_count": 3,
   "id": "6009d39f",
   "metadata": {},
   "outputs": [],
   "source": [
    "using DataFrames, CSV\n",
    "using JuMP, Gurobi"
   ]
  },
  {
   "cell_type": "code",
   "execution_count": 4,
   "id": "1a30f937",
   "metadata": {},
   "outputs": [
    {
     "name": "stdout",
     "output_type": "stream",
     "text": [
      "Set parameter Username\n",
      "Academic license - for non-commercial use only - expires 2023-08-18\n"
     ]
    },
    {
     "name": "stderr",
     "output_type": "stream",
     "text": [
      "WARNING: redefinition of constant GRB_ENV. This may fail, cause incorrect answers, or produce other errors.\n"
     ]
    }
   ],
   "source": [
    "const GRB_ENV = Gurobi.Env();"
   ]
  },
  {
   "cell_type": "code",
   "execution_count": 19,
   "id": "b0eac601",
   "metadata": {},
   "outputs": [],
   "source": [
    "data_o = CSV.read(\"train data/seed 10/train_o.csv\", DataFrame);\n",
    "data = CSV.read(\"train data/seed 10/train.csv\", DataFrame);"
   ]
  },
  {
   "cell_type": "code",
   "execution_count": 14,
   "id": "1ba28219",
   "metadata": {},
   "outputs": [
    {
     "data": {
      "text/plain": [
       "11-element Vector{String}:\n",
       " \"Column1\"\n",
       " \"neigborhood_cat\"\n",
       " \"room_type\"\n",
       " \"minimum_nights\"\n",
       " \"number_of_reviews\"\n",
       " \"reviews_per_month\"\n",
       " \"calculated_host_listings_count\"\n",
       " \"availability_365\"\n",
       " \"number_of_reviews_ltm\"\n",
       " \"days_since_last_review\"\n",
       " \"price\""
      ]
     },
     "execution_count": 14,
     "metadata": {},
     "output_type": "execute_result"
    }
   ],
   "source": [
    "names(data)"
   ]
  },
  {
   "cell_type": "code",
   "execution_count": 36,
   "id": "119ccd23",
   "metadata": {},
   "outputs": [],
   "source": [
    "train_o = select(data_o, Not([:Column1,:number_of_reviews_ltm,:neigborhood_cat, :room_type]));\n",
    "train = select(data, Not([:Column1,:number_of_reviews_ltm,:neigborhood_cat, :room_type]));"
   ]
  },
  {
   "cell_type": "code",
   "execution_count": 57,
   "id": "c27d2c4e",
   "metadata": {},
   "outputs": [
    {
     "data": {
      "text/html": [
       "<p>DataFrameRow (6 columns)</p><div class=\"data-frame\"><table class=\"data-frame\"><thead><tr><th></th><th>minimum_nights</th><th>number_of_reviews</th><th>reviews_per_month</th><th>calculated_host_listings_count</th></tr><tr><th></th><th title=\"Float64\">Float64</th><th title=\"Float64\">Float64</th><th title=\"Float64\">Float64</th><th title=\"Float64\">Float64</th></tr></thead><tbody><tr><th>2</th><td>0.00177936</td><td>0.0324277</td><td>0.0224084</td><td>0.0</td></tr></tbody></table></div>"
      ],
      "text/latex": [
       "\\begin{tabular}{r|ccccc}\n",
       "\t& minimum\\_nights & number\\_of\\_reviews & reviews\\_per\\_month & calculated\\_host\\_listings\\_count & \\\\\n",
       "\t\\hline\n",
       "\t& Float64 & Float64 & Float64 & Float64 & \\\\\n",
       "\t\\hline\n",
       "\t2 & 0.00177936 & 0.0324277 & 0.0224084 & 0.0 & $\\dots$ \\\\\n",
       "\\end{tabular}\n"
      ],
      "text/plain": [
       "\u001b[1mDataFrameRow\u001b[0m\n",
       "\u001b[1m Row \u001b[0m│\u001b[1m minimum_nights \u001b[0m\u001b[1m number_of_reviews \u001b[0m\u001b[1m reviews_per_month \u001b[0m\u001b[1m calculated_host_l\u001b[0m ⋯\n",
       "\u001b[1m     \u001b[0m│\u001b[90m Float64        \u001b[0m\u001b[90m Float64           \u001b[0m\u001b[90m Float64           \u001b[0m\u001b[90m Float64          \u001b[0m ⋯\n",
       "─────┼──────────────────────────────────────────────────────────────────────────\n",
       "   2 │     0.00177936          0.0324277          0.0224084                    ⋯\n",
       "\u001b[36m                                                               3 columns omitted\u001b[0m"
      ]
     },
     "execution_count": 57,
     "metadata": {},
     "output_type": "execute_result"
    }
   ],
   "source": [
    "train_X[2,:]"
   ]
  },
  {
   "cell_type": "code",
   "execution_count": 58,
   "id": "a7287271",
   "metadata": {},
   "outputs": [
    {
     "data": {
      "text/plain": [
       "stable_regression_step1 (generic function with 1 method)"
      ]
     },
     "execution_count": 58,
     "metadata": {},
     "output_type": "execute_result"
    }
   ],
   "source": [
    "#Fitting stable regression on each dataset\n",
    "function stable_regression_step1(X, y, k, λ; solver_output=0)\n",
    "    n,p = size(X)\n",
    "       \n",
    "    # Build model\n",
    "    model = Model(Gurobi.Optimizer)\n",
    "    set_optimizer_attribute(model, \"OutputFlag\", solver_output) \n",
    "    \n",
    "    # Insert variables\n",
    "    @variable(model, β[j=1:p])\n",
    "    @variable(model, θ)\n",
    "    @variable(model, u[1:n]>=0)\n",
    "   \n",
    "    #Insert constraints\n",
    "    \n",
    "    @constraint(model,[i=1:n], θ + u[i] >= y[i,1] - sum(X[i,j] * β[j] for j = 1:p))\n",
    "    @constraint(model,[i=1:n],θ + u[i] >= -y[i,1] + sum(X[i,j] * β[j] for j = 1:p))\n",
    "    \n",
    "    #Objective\n",
    "    @objective(model, Min, k*θ + sum(u[j] for j=1:n) + λ*sum(β.^2))\n",
    "    \n",
    "    # Optimize\n",
    "    optimize!(model)\n",
    "    \n",
    "    # Return estimated betas\n",
    "    return (value.(β))\n",
    "end"
   ]
  },
  {
   "cell_type": "code",
   "execution_count": 59,
   "id": "48321389",
   "metadata": {},
   "outputs": [],
   "source": [
    "train_X = select(train, Not([:price]));\n",
    "train_y = select(train, :price);"
   ]
  },
  {
   "cell_type": "code",
   "execution_count": 60,
   "id": "22ccac58",
   "metadata": {},
   "outputs": [
    {
     "data": {
      "text/plain": [
       "32443.2"
      ]
     },
     "execution_count": 60,
     "metadata": {},
     "output_type": "execute_result"
    }
   ],
   "source": [
    "size(train)[1] * 0.8"
   ]
  },
  {
   "cell_type": "code",
   "execution_count": 61,
   "id": "8c1d1602",
   "metadata": {},
   "outputs": [
    {
     "name": "stdout",
     "output_type": "stream",
     "text": [
      "Set parameter Username\n",
      "Academic license - for non-commercial use only - expires 2023-08-18\n"
     ]
    },
    {
     "data": {
      "text/plain": [
       "6-element Vector{Float64}:\n",
       "  0.2353194220291636\n",
       " -0.16837230310209025\n",
       "  1.1860551767031904\n",
       "  0.24801979390147147\n",
       "  0.10948737728802233\n",
       "  0.12198711904345741"
      ]
     },
     "execution_count": 61,
     "metadata": {},
     "output_type": "execute_result"
    }
   ],
   "source": [
    "beta = stable_regression_step1(train_X, train_y, 32443, 0.2)"
   ]
  },
  {
   "cell_type": "code",
   "execution_count": 70,
   "id": "b1ca9695",
   "metadata": {},
   "outputs": [
    {
     "data": {
      "text/plain": [
       "stable_regression_step2 (generic function with 1 method)"
      ]
     },
     "execution_count": 70,
     "metadata": {},
     "output_type": "execute_result"
    }
   ],
   "source": [
    "function stable_regression_step2(beta, X, y, k; solver_output = 0)\n",
    "    n,p = size(X)\n",
    "       \n",
    "    # Build model\n",
    "    model = Model(Gurobi.Optimizer)\n",
    "    set_optimizer_attribute(model, \"OutputFlag\", solver_output) \n",
    "    \n",
    "    # Insert variables\n",
    "    @variable(model, z[1:n]>=0)\n",
    "    #@variable(model, t[1:n])\n",
    "   \n",
    "    #Insert constraints\n",
    "    \n",
    "    @constraint(model, sum(z) == k)\n",
    "    @constraint(model,[i=1:n], z[i]<=1)\n",
    "    #@constraint(model, [i = 1:n], t[i]<=y[i,1]-sum(X[i,j] * beta[j] for j = 1:p))\n",
    "    #@constraint(model, [i = 1:n], t[i]<=-y[i,1]+sum(X[i,j] * beta[j] for j = 1:p))\n",
    "    \n",
    "    #Objective\n",
    "    @objective(model, Max, sum(z[i] * abs(y[i,1] - sum(X[i,j] * beta[j] for j = 1:p)) for i = 1:n))\n",
    "    \n",
    "    # Optimize\n",
    "    optimize!(model)\n",
    "    \n",
    "    # Return estimated betas\n",
    "    return (value.(z))\n",
    "end"
   ]
  },
  {
   "cell_type": "code",
   "execution_count": 71,
   "id": "c684417a",
   "metadata": {},
   "outputs": [
    {
     "name": "stdout",
     "output_type": "stream",
     "text": [
      "Set parameter Username\n",
      "Academic license - for non-commercial use only - expires 2023-08-18\n"
     ]
    },
    {
     "data": {
      "text/plain": [
       "40554-element Vector{Float64}:\n",
       " 1.0\n",
       " 1.0\n",
       " 0.0\n",
       " 1.0\n",
       " 1.0\n",
       " 1.0\n",
       " 1.0\n",
       " 1.0\n",
       " 0.0\n",
       " 1.0\n",
       " 1.0\n",
       " 1.0\n",
       " 1.0\n",
       " ⋮\n",
       " 1.0\n",
       " 0.0\n",
       " 1.0\n",
       " 1.0\n",
       " 1.0\n",
       " 1.0\n",
       " 1.0\n",
       " 1.0\n",
       " 1.0\n",
       " 1.0\n",
       " 0.0\n",
       " 0.0"
      ]
     },
     "execution_count": 71,
     "metadata": {},
     "output_type": "execute_result"
    }
   ],
   "source": [
    "z = stable_regression_step2(beta, train_X, train_y, 32443)"
   ]
  },
  {
   "cell_type": "code",
   "execution_count": 73,
   "id": "10ee04a4",
   "metadata": {},
   "outputs": [
    {
     "data": {
      "text/html": [
       "<div class=\"data-frame\"><p>32,443 rows × 7 columns (omitted printing of 3 columns)</p><table class=\"data-frame\"><thead><tr><th></th><th>minimum_nights</th><th>number_of_reviews</th><th>reviews_per_month</th><th>calculated_host_listings_count</th></tr><tr><th></th><th title=\"Float64\">Float64</th><th title=\"Float64\">Float64</th><th title=\"Float64\">Float64</th><th title=\"Float64\">Float64</th></tr></thead><tbody><tr><th>1</th><td>0.00266904</td><td>0.0587204</td><td>0.0200701</td><td>0.0</td></tr><tr><th>2</th><td>0.00177936</td><td>0.0324277</td><td>0.0224084</td><td>0.0</td></tr><tr><th>3</th><td>0.0258007</td><td>0.000876424</td><td>0.0</td><td>0.00352113</td></tr><tr><th>4</th><td>0.00177936</td><td>0.00262927</td><td>0.00155885</td><td>0.0</td></tr><tr><th>5</th><td>0.00177936</td><td>0.022787</td><td>0.00643024</td><td>0.00352113</td></tr><tr><th>6</th><td>0.00088968</td><td>0.0</td><td>0.0175664</td><td>0.0</td></tr><tr><th>7</th><td>0.00088968</td><td>0.000876424</td><td>0.0192907</td><td>0.00704225</td></tr><tr><th>8</th><td>0.00088968</td><td>0.0</td><td>0.0200491</td><td>0.190141</td></tr><tr><th>9</th><td>0.0151246</td><td>0.0</td><td>0.0164275</td><td>0.0</td></tr><tr><th>10</th><td>0.00088968</td><td>0.000876424</td><td>0.0</td><td>0.0</td></tr><tr><th>11</th><td>0.00177936</td><td>0.0140228</td><td>0.00526111</td><td>0.0</td></tr><tr><th>12</th><td>0.00533808</td><td>0.00175285</td><td>0.0035074</td><td>0.0492958</td></tr><tr><th>13</th><td>0.0</td><td>0.000876424</td><td>0.014809</td><td>0.00704225</td></tr><tr><th>14</th><td>0.0</td><td>0.00175285</td><td>0.000194856</td><td>0.0105634</td></tr><tr><th>15</th><td>0.0</td><td>0.00613497</td><td>0.00214341</td><td>0.0</td></tr><tr><th>16</th><td>0.0</td><td>0.0543383</td><td>0.0222136</td><td>0.0</td></tr><tr><th>17</th><td>0.00088968</td><td>0.00262927</td><td>0.00233827</td><td>0.0</td></tr><tr><th>18</th><td>0.00088968</td><td>0.0446976</td><td>0.0130553</td><td>0.0</td></tr><tr><th>19</th><td>0.00088968</td><td>0.0315513</td><td>0.00818394</td><td>0.00352113</td></tr><tr><th>20</th><td>0.00088968</td><td>0.0709904</td><td>0.0198753</td><td>0.00352113</td></tr><tr><th>21</th><td>0.00177936</td><td>0.0</td><td>0.0145284</td><td>0.0</td></tr><tr><th>22</th><td>0.0</td><td>0.000876424</td><td>0.0</td><td>0.0</td></tr><tr><th>23</th><td>0.00088968</td><td>0.00175285</td><td>0.027085</td><td>0.00704225</td></tr><tr><th>24</th><td>0.00177936</td><td>0.0</td><td>0.0227972</td><td>0.0</td></tr><tr><th>25</th><td>0.00088968</td><td>0.0</td><td>0.013254</td><td>0.0</td></tr><tr><th>26</th><td>0.00355872</td><td>0.00876424</td><td>0.00155885</td><td>0.0</td></tr><tr><th>27</th><td>0.0240214</td><td>0.000876424</td><td>0.0116913</td><td>0.102113</td></tr><tr><th>28</th><td>0.00355872</td><td>0.000876424</td><td>0.000389712</td><td>0.0</td></tr><tr><th>29</th><td>0.00177936</td><td>0.0</td><td>0.0194754</td><td>0.0</td></tr><tr><th>30</th><td>0.00088968</td><td>0.00262927</td><td>0.000584567</td><td>0.0</td></tr><tr><th>&vellip;</th><td>&vellip;</td><td>&vellip;</td><td>&vellip;</td><td>&vellip;</td></tr></tbody></table></div>"
      ],
      "text/latex": [
       "\\begin{tabular}{r|ccccc}\n",
       "\t& minimum\\_nights & number\\_of\\_reviews & reviews\\_per\\_month & calculated\\_host\\_listings\\_count & \\\\\n",
       "\t\\hline\n",
       "\t& Float64 & Float64 & Float64 & Float64 & \\\\\n",
       "\t\\hline\n",
       "\t1 & 0.00266904 & 0.0587204 & 0.0200701 & 0.0 & $\\dots$ \\\\\n",
       "\t2 & 0.00177936 & 0.0324277 & 0.0224084 & 0.0 & $\\dots$ \\\\\n",
       "\t3 & 0.0258007 & 0.000876424 & 0.0 & 0.00352113 & $\\dots$ \\\\\n",
       "\t4 & 0.00177936 & 0.00262927 & 0.00155885 & 0.0 & $\\dots$ \\\\\n",
       "\t5 & 0.00177936 & 0.022787 & 0.00643024 & 0.00352113 & $\\dots$ \\\\\n",
       "\t6 & 0.00088968 & 0.0 & 0.0175664 & 0.0 & $\\dots$ \\\\\n",
       "\t7 & 0.00088968 & 0.000876424 & 0.0192907 & 0.00704225 & $\\dots$ \\\\\n",
       "\t8 & 0.00088968 & 0.0 & 0.0200491 & 0.190141 & $\\dots$ \\\\\n",
       "\t9 & 0.0151246 & 0.0 & 0.0164275 & 0.0 & $\\dots$ \\\\\n",
       "\t10 & 0.00088968 & 0.000876424 & 0.0 & 0.0 & $\\dots$ \\\\\n",
       "\t11 & 0.00177936 & 0.0140228 & 0.00526111 & 0.0 & $\\dots$ \\\\\n",
       "\t12 & 0.00533808 & 0.00175285 & 0.0035074 & 0.0492958 & $\\dots$ \\\\\n",
       "\t13 & 0.0 & 0.000876424 & 0.014809 & 0.00704225 & $\\dots$ \\\\\n",
       "\t14 & 0.0 & 0.00175285 & 0.000194856 & 0.0105634 & $\\dots$ \\\\\n",
       "\t15 & 0.0 & 0.00613497 & 0.00214341 & 0.0 & $\\dots$ \\\\\n",
       "\t16 & 0.0 & 0.0543383 & 0.0222136 & 0.0 & $\\dots$ \\\\\n",
       "\t17 & 0.00088968 & 0.00262927 & 0.00233827 & 0.0 & $\\dots$ \\\\\n",
       "\t18 & 0.00088968 & 0.0446976 & 0.0130553 & 0.0 & $\\dots$ \\\\\n",
       "\t19 & 0.00088968 & 0.0315513 & 0.00818394 & 0.00352113 & $\\dots$ \\\\\n",
       "\t20 & 0.00088968 & 0.0709904 & 0.0198753 & 0.00352113 & $\\dots$ \\\\\n",
       "\t21 & 0.00177936 & 0.0 & 0.0145284 & 0.0 & $\\dots$ \\\\\n",
       "\t22 & 0.0 & 0.000876424 & 0.0 & 0.0 & $\\dots$ \\\\\n",
       "\t23 & 0.00088968 & 0.00175285 & 0.027085 & 0.00704225 & $\\dots$ \\\\\n",
       "\t24 & 0.00177936 & 0.0 & 0.0227972 & 0.0 & $\\dots$ \\\\\n",
       "\t25 & 0.00088968 & 0.0 & 0.013254 & 0.0 & $\\dots$ \\\\\n",
       "\t26 & 0.00355872 & 0.00876424 & 0.00155885 & 0.0 & $\\dots$ \\\\\n",
       "\t27 & 0.0240214 & 0.000876424 & 0.0116913 & 0.102113 & $\\dots$ \\\\\n",
       "\t28 & 0.00355872 & 0.000876424 & 0.000389712 & 0.0 & $\\dots$ \\\\\n",
       "\t29 & 0.00177936 & 0.0 & 0.0194754 & 0.0 & $\\dots$ \\\\\n",
       "\t30 & 0.00088968 & 0.00262927 & 0.000584567 & 0.0 & $\\dots$ \\\\\n",
       "\t$\\dots$ & $\\dots$ & $\\dots$ & $\\dots$ & $\\dots$ &  \\\\\n",
       "\\end{tabular}\n"
      ],
      "text/plain": [
       "\u001b[1m32443×7 DataFrame\u001b[0m\n",
       "\u001b[1m   Row \u001b[0m│\u001b[1m minimum_nights \u001b[0m\u001b[1m number_of_reviews \u001b[0m\u001b[1m reviews_per_month \u001b[0m\u001b[1m calculated_host\u001b[0m ⋯\n",
       "\u001b[1m       \u001b[0m│\u001b[90m Float64        \u001b[0m\u001b[90m Float64           \u001b[0m\u001b[90m Float64           \u001b[0m\u001b[90m Float64        \u001b[0m ⋯\n",
       "───────┼────────────────────────────────────────────────────────────────────────\n",
       "     1 │     0.00266904        0.0587204          0.0200701                    ⋯\n",
       "     2 │     0.00177936        0.0324277          0.0224084\n",
       "     3 │     0.0258007         0.000876424        0.0\n",
       "     4 │     0.00177936        0.00262927         0.00155885\n",
       "     5 │     0.00177936        0.022787           0.00643024                   ⋯\n",
       "     6 │     0.00088968        0.0                0.0175664\n",
       "     7 │     0.00088968        0.000876424        0.0192907\n",
       "     8 │     0.00088968        0.0                0.0200491\n",
       "     9 │     0.0151246         0.0                0.0164275                    ⋯\n",
       "    10 │     0.00088968        0.000876424        0.0\n",
       "    11 │     0.00177936        0.0140228          0.00526111\n",
       "   ⋮   │       ⋮                 ⋮                  ⋮                        ⋮ ⋱\n",
       " 32434 │     0.00088968        0.0                0.0189064\n",
       " 32435 │     0.00177936        0.0140228          0.00506625                   ⋯\n",
       " 32436 │     0.0               0.00788782         0.00389712\n",
       " 32437 │     0.00177936        0.000876424        0.00155885\n",
       " 32438 │     0.0               0.0315513          0.0130553\n",
       " 32439 │     0.00266904        0.00438212         0.0461808                    ⋯\n",
       " 32440 │     0.00177936        0.00175285         0.000194856\n",
       " 32441 │     0.0044484         0.0                0.0200299\n",
       " 32442 │     0.00177936        0.0385627          0.0185113\n",
       " 32443 │     0.0               0.00525854         0.102884                     ⋯\n",
       "\u001b[36m                                                4 columns and 32422 rows omitted\u001b[0m"
      ]
     },
     "execution_count": 73,
     "metadata": {},
     "output_type": "execute_result"
    }
   ],
   "source": [
    "train_stable = train[z.==1, :]"
   ]
  },
  {
   "cell_type": "code",
   "execution_count": 74,
   "id": "a162dcc5",
   "metadata": {},
   "outputs": [
    {
     "data": {
      "text/html": [
       "<div class=\"data-frame\"><p>32,443 rows × 7 columns (omitted printing of 3 columns)</p><table class=\"data-frame\"><thead><tr><th></th><th>minimum_nights</th><th>number_of_reviews</th><th>reviews_per_month</th><th>calculated_host_listings_count</th></tr><tr><th></th><th title=\"Int64\">Int64</th><th title=\"Int64\">Int64</th><th title=\"Float64\">Float64</th><th title=\"Int64\">Int64</th></tr></thead><tbody><tr><th>1</th><td>3</td><td>2</td><td>0.03</td><td>4</td></tr><tr><th>2</th><td>1</td><td>0</td><td>0.778367</td><td>1</td></tr><tr><th>3</th><td>1</td><td>376</td><td>5.14</td><td>21</td></tr><tr><th>4</th><td>3</td><td>10</td><td>0.2</td><td>1</td></tr><tr><th>5</th><td>2</td><td>6</td><td>0.08</td><td>1</td></tr><tr><th>6</th><td>7</td><td>6</td><td>0.52</td><td>4</td></tr><tr><th>7</th><td>2</td><td>10</td><td>0.14</td><td>1</td></tr><tr><th>8</th><td>2</td><td>32</td><td>0.59</td><td>1</td></tr><tr><th>9</th><td>1</td><td>0</td><td>1.00948</td><td>1</td></tr><tr><th>10</th><td>4</td><td>0</td><td>0.845487</td><td>1</td></tr><tr><th>11</th><td>1</td><td>7</td><td>5.53</td><td>2</td></tr><tr><th>12</th><td>2</td><td>0</td><td>0.630794</td><td>1</td></tr><tr><th>13</th><td>3</td><td>65</td><td>0.98</td><td>3</td></tr><tr><th>14</th><td>2</td><td>16</td><td>0.49</td><td>1</td></tr><tr><th>15</th><td>1</td><td>143</td><td>2.94</td><td>20</td></tr><tr><th>16</th><td>5</td><td>2</td><td>0.04</td><td>1</td></tr><tr><th>17</th><td>31</td><td>1</td><td>0.26</td><td>2</td></tr><tr><th>18</th><td>4</td><td>0</td><td>0.850492</td><td>1</td></tr><tr><th>19</th><td>1</td><td>4</td><td>0.25</td><td>1</td></tr><tr><th>20</th><td>3</td><td>0</td><td>1.01922</td><td>1</td></tr><tr><th>21</th><td>1</td><td>0</td><td>1.41043</td><td>1</td></tr><tr><th>22</th><td>1</td><td>10</td><td>0.15</td><td>3</td></tr><tr><th>23</th><td>1</td><td>6</td><td>2.47</td><td>2</td></tr><tr><th>24</th><td>1</td><td>0</td><td>1.17995</td><td>1</td></tr><tr><th>25</th><td>1</td><td>2</td><td>0.03</td><td>1</td></tr><tr><th>26</th><td>7</td><td>0</td><td>0.696667</td><td>30</td></tr><tr><th>27</th><td>3</td><td>3</td><td>1.13</td><td>5</td></tr><tr><th>28</th><td>7</td><td>44</td><td>1.41</td><td>1</td></tr><tr><th>29</th><td>4</td><td>11</td><td>0.3</td><td>1</td></tr><tr><th>30</th><td>3</td><td>22</td><td>0.28</td><td>2</td></tr><tr><th>&vellip;</th><td>&vellip;</td><td>&vellip;</td><td>&vellip;</td><td>&vellip;</td></tr></tbody></table></div>"
      ],
      "text/latex": [
       "\\begin{tabular}{r|ccccc}\n",
       "\t& minimum\\_nights & number\\_of\\_reviews & reviews\\_per\\_month & calculated\\_host\\_listings\\_count & \\\\\n",
       "\t\\hline\n",
       "\t& Int64 & Int64 & Float64 & Int64 & \\\\\n",
       "\t\\hline\n",
       "\t1 & 3 & 2 & 0.03 & 4 & $\\dots$ \\\\\n",
       "\t2 & 1 & 0 & 0.778367 & 1 & $\\dots$ \\\\\n",
       "\t3 & 1 & 376 & 5.14 & 21 & $\\dots$ \\\\\n",
       "\t4 & 3 & 10 & 0.2 & 1 & $\\dots$ \\\\\n",
       "\t5 & 2 & 6 & 0.08 & 1 & $\\dots$ \\\\\n",
       "\t6 & 7 & 6 & 0.52 & 4 & $\\dots$ \\\\\n",
       "\t7 & 2 & 10 & 0.14 & 1 & $\\dots$ \\\\\n",
       "\t8 & 2 & 32 & 0.59 & 1 & $\\dots$ \\\\\n",
       "\t9 & 1 & 0 & 1.00948 & 1 & $\\dots$ \\\\\n",
       "\t10 & 4 & 0 & 0.845487 & 1 & $\\dots$ \\\\\n",
       "\t11 & 1 & 7 & 5.53 & 2 & $\\dots$ \\\\\n",
       "\t12 & 2 & 0 & 0.630794 & 1 & $\\dots$ \\\\\n",
       "\t13 & 3 & 65 & 0.98 & 3 & $\\dots$ \\\\\n",
       "\t14 & 2 & 16 & 0.49 & 1 & $\\dots$ \\\\\n",
       "\t15 & 1 & 143 & 2.94 & 20 & $\\dots$ \\\\\n",
       "\t16 & 5 & 2 & 0.04 & 1 & $\\dots$ \\\\\n",
       "\t17 & 31 & 1 & 0.26 & 2 & $\\dots$ \\\\\n",
       "\t18 & 4 & 0 & 0.850492 & 1 & $\\dots$ \\\\\n",
       "\t19 & 1 & 4 & 0.25 & 1 & $\\dots$ \\\\\n",
       "\t20 & 3 & 0 & 1.01922 & 1 & $\\dots$ \\\\\n",
       "\t21 & 1 & 0 & 1.41043 & 1 & $\\dots$ \\\\\n",
       "\t22 & 1 & 10 & 0.15 & 3 & $\\dots$ \\\\\n",
       "\t23 & 1 & 6 & 2.47 & 2 & $\\dots$ \\\\\n",
       "\t24 & 1 & 0 & 1.17995 & 1 & $\\dots$ \\\\\n",
       "\t25 & 1 & 2 & 0.03 & 1 & $\\dots$ \\\\\n",
       "\t26 & 7 & 0 & 0.696667 & 30 & $\\dots$ \\\\\n",
       "\t27 & 3 & 3 & 1.13 & 5 & $\\dots$ \\\\\n",
       "\t28 & 7 & 44 & 1.41 & 1 & $\\dots$ \\\\\n",
       "\t29 & 4 & 11 & 0.3 & 1 & $\\dots$ \\\\\n",
       "\t30 & 3 & 22 & 0.28 & 2 & $\\dots$ \\\\\n",
       "\t$\\dots$ & $\\dots$ & $\\dots$ & $\\dots$ & $\\dots$ &  \\\\\n",
       "\\end{tabular}\n"
      ],
      "text/plain": [
       "\u001b[1m32443×7 DataFrame\u001b[0m\n",
       "\u001b[1m   Row \u001b[0m│\u001b[1m minimum_nights \u001b[0m\u001b[1m number_of_reviews \u001b[0m\u001b[1m reviews_per_month \u001b[0m\u001b[1m calculated_host\u001b[0m ⋯\n",
       "\u001b[1m       \u001b[0m│\u001b[90m Int64          \u001b[0m\u001b[90m Int64             \u001b[0m\u001b[90m Float64           \u001b[0m\u001b[90m Int64          \u001b[0m ⋯\n",
       "───────┼────────────────────────────────────────────────────────────────────────\n",
       "     1 │              3                  2           0.03                      ⋯\n",
       "     2 │              1                  0           0.778367\n",
       "     3 │              1                376           5.14\n",
       "     4 │              3                 10           0.2\n",
       "     5 │              2                  6           0.08                      ⋯\n",
       "     6 │              7                  6           0.52\n",
       "     7 │              2                 10           0.14\n",
       "     8 │              2                 32           0.59\n",
       "     9 │              1                  0           1.00948                   ⋯\n",
       "    10 │              4                  0           0.845487\n",
       "    11 │              1                  7           5.53\n",
       "   ⋮   │       ⋮                 ⋮                  ⋮                        ⋮ ⋱\n",
       " 32434 │              3                  1           0.02\n",
       " 32435 │              2                  0           0.736451                  ⋯\n",
       " 32436 │             21                 27           0.43\n",
       " 32437 │              3                  6           0.92\n",
       " 32438 │              1                 33           5.86\n",
       " 32439 │              3                  1           0.01                      ⋯\n",
       " 32440 │              2                 10           2.61\n",
       " 32441 │              3                  1           1.0\n",
       " 32442 │              2                  2           0.03\n",
       " 32443 │              3                 11           0.26                      ⋯\n",
       "\u001b[36m                                                4 columns and 32422 rows omitted\u001b[0m"
      ]
     },
     "execution_count": 74,
     "metadata": {},
     "output_type": "execute_result"
    }
   ],
   "source": [
    "train_stable_o = train_o[z.==1, :]"
   ]
  },
  {
   "cell_type": "code",
   "execution_count": null,
   "id": "6c55bf13",
   "metadata": {},
   "outputs": [],
   "source": []
  }
 ],
 "metadata": {
  "kernelspec": {
   "display_name": "Julia 1.8.2",
   "language": "julia",
   "name": "julia-1.8"
  },
  "language_info": {
   "file_extension": ".jl",
   "mimetype": "application/julia",
   "name": "julia",
   "version": "1.8.2"
  }
 },
 "nbformat": 4,
 "nbformat_minor": 5
}
