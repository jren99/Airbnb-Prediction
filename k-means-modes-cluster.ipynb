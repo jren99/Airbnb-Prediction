{
 "cells": [
  {
   "cell_type": "code",
   "execution_count": 67,
   "id": "92cd5234",
   "metadata": {},
   "outputs": [],
   "source": [
    "import numpy as np\n",
    "import pandas as pd"
   ]
  },
  {
   "cell_type": "code",
   "execution_count": 68,
   "id": "61622438",
   "metadata": {},
   "outputs": [],
   "source": [
    "train = pd.read_csv('train.csv')"
   ]
  },
  {
   "cell_type": "code",
   "execution_count": 3,
   "id": "7b5b9308",
   "metadata": {},
   "outputs": [
    {
     "data": {
      "text/html": [
       "<div>\n",
       "<style scoped>\n",
       "    .dataframe tbody tr th:only-of-type {\n",
       "        vertical-align: middle;\n",
       "    }\n",
       "\n",
       "    .dataframe tbody tr th {\n",
       "        vertical-align: top;\n",
       "    }\n",
       "\n",
       "    .dataframe thead th {\n",
       "        text-align: right;\n",
       "    }\n",
       "</style>\n",
       "<table border=\"1\" class=\"dataframe\">\n",
       "  <thead>\n",
       "    <tr style=\"text-align: right;\">\n",
       "      <th></th>\n",
       "      <th>Unnamed: 0</th>\n",
       "      <th>neigborhood_cat</th>\n",
       "      <th>room_type</th>\n",
       "      <th>minimum_nights</th>\n",
       "      <th>number_of_reviews</th>\n",
       "      <th>reviews_per_month</th>\n",
       "      <th>calculated_host_listings_count</th>\n",
       "      <th>availability_365</th>\n",
       "      <th>number_of_reviews_ltm</th>\n",
       "      <th>days_since_last_review</th>\n",
       "      <th>price</th>\n",
       "    </tr>\n",
       "  </thead>\n",
       "  <tbody>\n",
       "    <tr>\n",
       "      <th>0</th>\n",
       "      <td>34881</td>\n",
       "      <td>High</td>\n",
       "      <td>Entire home/apt</td>\n",
       "      <td>0.000890</td>\n",
       "      <td>0.014899</td>\n",
       "      <td>0.008184</td>\n",
       "      <td>0.088028</td>\n",
       "      <td>0.000000</td>\n",
       "      <td>0.000000</td>\n",
       "      <td>0.251162</td>\n",
       "      <td>0.056122</td>\n",
       "    </tr>\n",
       "    <tr>\n",
       "      <th>1</th>\n",
       "      <td>9929</td>\n",
       "      <td>Low</td>\n",
       "      <td>Entire home/apt</td>\n",
       "      <td>0.003559</td>\n",
       "      <td>0.004382</td>\n",
       "      <td>0.001169</td>\n",
       "      <td>0.000000</td>\n",
       "      <td>0.000000</td>\n",
       "      <td>0.000000</td>\n",
       "      <td>0.330888</td>\n",
       "      <td>0.016327</td>\n",
       "    </tr>\n",
       "    <tr>\n",
       "      <th>2</th>\n",
       "      <td>60478</td>\n",
       "      <td>High</td>\n",
       "      <td>Entire home/apt</td>\n",
       "      <td>0.000000</td>\n",
       "      <td>0.000000</td>\n",
       "      <td>0.019665</td>\n",
       "      <td>0.176056</td>\n",
       "      <td>0.964384</td>\n",
       "      <td>0.000000</td>\n",
       "      <td>0.097945</td>\n",
       "      <td>0.269388</td>\n",
       "    </tr>\n",
       "    <tr>\n",
       "      <th>3</th>\n",
       "      <td>38620</td>\n",
       "      <td>High</td>\n",
       "      <td>Entire home/apt</td>\n",
       "      <td>0.000000</td>\n",
       "      <td>0.001753</td>\n",
       "      <td>0.003118</td>\n",
       "      <td>0.228873</td>\n",
       "      <td>0.646575</td>\n",
       "      <td>0.003030</td>\n",
       "      <td>0.016141</td>\n",
       "      <td>0.694898</td>\n",
       "    </tr>\n",
       "    <tr>\n",
       "      <th>4</th>\n",
       "      <td>1009</td>\n",
       "      <td>Middle</td>\n",
       "      <td>Entire home/apt</td>\n",
       "      <td>0.000000</td>\n",
       "      <td>0.066608</td>\n",
       "      <td>0.019291</td>\n",
       "      <td>0.066901</td>\n",
       "      <td>0.731507</td>\n",
       "      <td>0.022727</td>\n",
       "      <td>0.010271</td>\n",
       "      <td>0.086735</td>\n",
       "    </tr>\n",
       "  </tbody>\n",
       "</table>\n",
       "</div>"
      ],
      "text/plain": [
       "   Unnamed: 0 neigborhood_cat        room_type  minimum_nights  \\\n",
       "0       34881            High  Entire home/apt        0.000890   \n",
       "1        9929             Low  Entire home/apt        0.003559   \n",
       "2       60478            High  Entire home/apt        0.000000   \n",
       "3       38620            High  Entire home/apt        0.000000   \n",
       "4        1009          Middle  Entire home/apt        0.000000   \n",
       "\n",
       "   number_of_reviews  reviews_per_month  calculated_host_listings_count  \\\n",
       "0           0.014899           0.008184                        0.088028   \n",
       "1           0.004382           0.001169                        0.000000   \n",
       "2           0.000000           0.019665                        0.176056   \n",
       "3           0.001753           0.003118                        0.228873   \n",
       "4           0.066608           0.019291                        0.066901   \n",
       "\n",
       "   availability_365  number_of_reviews_ltm  days_since_last_review     price  \n",
       "0          0.000000               0.000000                0.251162  0.056122  \n",
       "1          0.000000               0.000000                0.330888  0.016327  \n",
       "2          0.964384               0.000000                0.097945  0.269388  \n",
       "3          0.646575               0.003030                0.016141  0.694898  \n",
       "4          0.731507               0.022727                0.010271  0.086735  "
      ]
     },
     "execution_count": 3,
     "metadata": {},
     "output_type": "execute_result"
    }
   ],
   "source": [
    "train.head()"
   ]
  },
  {
   "cell_type": "code",
   "execution_count": 4,
   "id": "d6aeb79b",
   "metadata": {},
   "outputs": [],
   "source": [
    "train = train.iloc[:,1:]"
   ]
  },
  {
   "cell_type": "code",
   "execution_count": 5,
   "id": "afe4e2aa",
   "metadata": {},
   "outputs": [],
   "source": [
    "val = pd.read_csv('val.csv')"
   ]
  },
  {
   "cell_type": "code",
   "execution_count": 6,
   "id": "36aefbd7",
   "metadata": {},
   "outputs": [],
   "source": [
    "val = val.iloc[:,1:]"
   ]
  },
  {
   "cell_type": "code",
   "execution_count": 7,
   "id": "8c0bf874",
   "metadata": {},
   "outputs": [],
   "source": [
    "train = pd.concat([train,val], ignore_index = True)"
   ]
  },
  {
   "cell_type": "code",
   "execution_count": 8,
   "id": "4c5e4f8c",
   "metadata": {},
   "outputs": [
    {
     "data": {
      "text/plain": [
       "Index(['neigborhood_cat', 'room_type', 'minimum_nights', 'number_of_reviews',\n",
       "       'reviews_per_month', 'calculated_host_listings_count',\n",
       "       'availability_365', 'number_of_reviews_ltm', 'days_since_last_review',\n",
       "       'price'],\n",
       "      dtype='object')"
      ]
     },
     "execution_count": 8,
     "metadata": {},
     "output_type": "execute_result"
    }
   ],
   "source": [
    "train.columns"
   ]
  },
  {
   "cell_type": "code",
   "execution_count": 9,
   "id": "5fe99c9f",
   "metadata": {},
   "outputs": [],
   "source": [
    "cat = [0,1]\n",
    "num = [2,3,4,5,6,7,8,9]"
   ]
  },
  {
   "cell_type": "code",
   "execution_count": 10,
   "id": "abc6a4ed",
   "metadata": {},
   "outputs": [],
   "source": [
    "import random\n",
    "random.seed(10)"
   ]
  },
  {
   "cell_type": "code",
   "execution_count": 49,
   "id": "fb7db09b",
   "metadata": {},
   "outputs": [],
   "source": [
    "n = len(train)"
   ]
  },
  {
   "cell_type": "code",
   "execution_count": 60,
   "id": "e4412860",
   "metadata": {},
   "outputs": [
    {
     "data": {
      "text/plain": [
       "40554"
      ]
     },
     "execution_count": 60,
     "metadata": {},
     "output_type": "execute_result"
    }
   ],
   "source": [
    "n"
   ]
  },
  {
   "cell_type": "code",
   "execution_count": 118,
   "id": "57a1f7aa",
   "metadata": {},
   "outputs": [
    {
     "data": {
      "text/plain": [
       "(40554,)"
      ]
     },
     "execution_count": 118,
     "metadata": {},
     "output_type": "execute_result"
    }
   ],
   "source": [
    "np.shape(x2)"
   ]
  },
  {
   "cell_type": "code",
   "execution_count": 13,
   "id": "c6add7e5",
   "metadata": {},
   "outputs": [
    {
     "data": {
      "text/html": [
       "<div>\n",
       "<style scoped>\n",
       "    .dataframe tbody tr th:only-of-type {\n",
       "        vertical-align: middle;\n",
       "    }\n",
       "\n",
       "    .dataframe tbody tr th {\n",
       "        vertical-align: top;\n",
       "    }\n",
       "\n",
       "    .dataframe thead th {\n",
       "        text-align: right;\n",
       "    }\n",
       "</style>\n",
       "<table border=\"1\" class=\"dataframe\">\n",
       "  <thead>\n",
       "    <tr style=\"text-align: right;\">\n",
       "      <th></th>\n",
       "      <th>neigborhood_cat</th>\n",
       "      <th>room_type</th>\n",
       "      <th>minimum_nights</th>\n",
       "      <th>number_of_reviews</th>\n",
       "      <th>reviews_per_month</th>\n",
       "      <th>calculated_host_listings_count</th>\n",
       "      <th>availability_365</th>\n",
       "      <th>number_of_reviews_ltm</th>\n",
       "      <th>days_since_last_review</th>\n",
       "      <th>price</th>\n",
       "    </tr>\n",
       "  </thead>\n",
       "  <tbody>\n",
       "    <tr>\n",
       "      <th>30896</th>\n",
       "      <td>Middle</td>\n",
       "      <td>Entire home/apt</td>\n",
       "      <td>0.00089</td>\n",
       "      <td>0.031551</td>\n",
       "      <td>0.012471</td>\n",
       "      <td>0.0</td>\n",
       "      <td>0.000000</td>\n",
       "      <td>0.0</td>\n",
       "      <td>0.214233</td>\n",
       "      <td>0.036735</td>\n",
       "    </tr>\n",
       "    <tr>\n",
       "      <th>23190</th>\n",
       "      <td>Middle</td>\n",
       "      <td>Private room</td>\n",
       "      <td>0.00089</td>\n",
       "      <td>0.000000</td>\n",
       "      <td>0.016977</td>\n",
       "      <td>0.0</td>\n",
       "      <td>0.693151</td>\n",
       "      <td>0.0</td>\n",
       "      <td>0.147938</td>\n",
       "      <td>0.013265</td>\n",
       "    </tr>\n",
       "    <tr>\n",
       "      <th>31258</th>\n",
       "      <td>Mid-Low</td>\n",
       "      <td>Entire home/apt</td>\n",
       "      <td>0.00089</td>\n",
       "      <td>0.008764</td>\n",
       "      <td>0.004871</td>\n",
       "      <td>0.0</td>\n",
       "      <td>0.000000</td>\n",
       "      <td>0.0</td>\n",
       "      <td>0.260210</td>\n",
       "      <td>0.183673</td>\n",
       "    </tr>\n",
       "  </tbody>\n",
       "</table>\n",
       "</div>"
      ],
      "text/plain": [
       "      neigborhood_cat        room_type  minimum_nights  number_of_reviews  \\\n",
       "30896          Middle  Entire home/apt         0.00089           0.031551   \n",
       "23190          Middle     Private room         0.00089           0.000000   \n",
       "31258         Mid-Low  Entire home/apt         0.00089           0.008764   \n",
       "\n",
       "       reviews_per_month  calculated_host_listings_count  availability_365  \\\n",
       "30896           0.012471                             0.0          0.000000   \n",
       "23190           0.016977                             0.0          0.693151   \n",
       "31258           0.004871                             0.0          0.000000   \n",
       "\n",
       "       number_of_reviews_ltm  days_since_last_review     price  \n",
       "30896                    0.0                0.214233  0.036735  \n",
       "23190                    0.0                0.147938  0.013265  \n",
       "31258                    0.0                0.260210  0.183673  "
      ]
     },
     "execution_count": 13,
     "metadata": {},
     "output_type": "execute_result"
    }
   ],
   "source": [
    "idx = random.choices(train.index, k = 3)\n",
    "centroids_i = train.iloc[idx, ]\n",
    "centroids_i"
   ]
  },
  {
   "cell_type": "code",
   "execution_count": 12,
   "id": "a1550766",
   "metadata": {},
   "outputs": [],
   "source": [
    "def distance_matrix(data, centroids, k, alpha=0.5):\n",
    "    # numerical values \n",
    "    n = len(data)\n",
    "    d_num = np.zeros((n,k))\n",
    "    for i in range(k):\n",
    "        d_num[:,i] = np.sum((data.iloc[:,num].to_numpy()- centroids.iloc[:,num].to_numpy()[i])**2, 1)\n",
    "        \n",
    "    \n",
    "    # categorical values\n",
    "    d_cat = np.zeros((n,k))\n",
    "    for i in range(n):\n",
    "        for j in range(k):\n",
    "            d_cat[i,j] = (data.iloc[i,1] != centroids.iloc[j,1]) + (data.iloc[i,2] != centroids.iloc[j,2])\n",
    "                \n",
    "    d = alpha * d_num + (1-alpha) * d_cat\n",
    "        \n",
    "    return(d)\n",
    "            "
   ]
  },
  {
   "cell_type": "code",
   "execution_count": 14,
   "id": "2ce140f7",
   "metadata": {},
   "outputs": [],
   "source": [
    "dist = distance_matrix(train,centroids_i, 3)"
   ]
  },
  {
   "cell_type": "code",
   "execution_count": 15,
   "id": "db2d6439",
   "metadata": {},
   "outputs": [
    {
     "data": {
      "text/plain": [
       "array([[0.00489211, 0.750499  , 0.01207436],\n",
       "       [0.50744888, 0.75710704, 0.51652016],\n",
       "       [1.01486492, 0.58633455, 0.99750239],\n",
       "       ...,\n",
       "       [0.02189181, 0.75142154, 0.0410735 ],\n",
       "       [0.02927962, 0.73160367, 0.03239848],\n",
       "       [1.00883582, 0.55550117, 1.00807927]])"
      ]
     },
     "execution_count": 15,
     "metadata": {},
     "output_type": "execute_result"
    }
   ],
   "source": [
    "dist"
   ]
  },
  {
   "cell_type": "code",
   "execution_count": 54,
   "id": "03ea4c25",
   "metadata": {},
   "outputs": [],
   "source": [
    "def find_centroids(data, j, tol = 0.00001):\n",
    "    # initialize random centroids\n",
    "    random.seed(10)\n",
    "    idx = random.choices(data.index, k = j)\n",
    "    centroids = data.iloc[idx, :]\n",
    "    \n",
    "    dist_prev_iter = 1\n",
    "    dist= 0\n",
    "    iterations = 0\n",
    "    \n",
    "    while(dist_prev_iter - dist) > tol:\n",
    "        dist_prev_iter = dist\n",
    "        dist = 0\n",
    "        n = len(data)\n",
    "        cluster = np.zeros(n)\n",
    "        \n",
    "        d = distance_matrix(data, centroids, j)\n",
    "        \n",
    "        # assign cluster\n",
    "        for i in range(n):\n",
    "            cluster[i] = np.where(d[i] == d[i].min())[0][0]\n",
    "            #print(cluster[i])\n",
    "            \n",
    "        cluster = cluster.astype(int)\n",
    "            \n",
    "        \n",
    "        # sum distance to centroids\n",
    "        for i in range(n):\n",
    "            dist = dist + d[i, cluster[i]]\n",
    "            \n",
    "        \n",
    "        # update centroid\n",
    "        # for numerical features, update centroid with average value\n",
    "        temp_num = pd.DataFrame(columns=data.columns[2:])\n",
    "        for i in range(j):\n",
    "            temp_num = temp_num.append(data[cluster == i].iloc[:, num].mean(axis = 0,skipna=True), ignore_index=True)\n",
    "            \n",
    "        #print(temp_num)\n",
    "        \n",
    "        temp_cat = pd.DataFrame(columns = data.columns[[0,1]])\n",
    "        # for categorical features, update centroid with mode\n",
    "        for i in range(j):\n",
    "            temp_cat = temp_cat.append(data[cluster == i].mode(), ignore_index=True)\n",
    "            \n",
    "        #print(temp_cat)\n",
    "       \n",
    "        centroids = pd.concat([temp_cat, temp_num], axis = 1)\n",
    "        #print(centroids)\n",
    "        \n",
    "        iterations += 1\n",
    "        \n",
    "    return centroids, dist"
   ]
  },
  {
   "cell_type": "code",
   "execution_count": 17,
   "id": "43ced44a",
   "metadata": {},
   "outputs": [],
   "source": [
    "import warnings\n",
    "warnings.filterwarnings(\"ignore\")"
   ]
  },
  {
   "cell_type": "code",
   "execution_count": 18,
   "id": "53772174",
   "metadata": {},
   "outputs": [
    {
     "data": {
      "text/html": [
       "<div>\n",
       "<style scoped>\n",
       "    .dataframe tbody tr th:only-of-type {\n",
       "        vertical-align: middle;\n",
       "    }\n",
       "\n",
       "    .dataframe tbody tr th {\n",
       "        vertical-align: top;\n",
       "    }\n",
       "\n",
       "    .dataframe thead th {\n",
       "        text-align: right;\n",
       "    }\n",
       "</style>\n",
       "<table border=\"1\" class=\"dataframe\">\n",
       "  <thead>\n",
       "    <tr style=\"text-align: right;\">\n",
       "      <th></th>\n",
       "      <th>neigborhood_cat</th>\n",
       "      <th>room_type</th>\n",
       "      <th>minimum_nights</th>\n",
       "      <th>number_of_reviews</th>\n",
       "      <th>reviews_per_month</th>\n",
       "      <th>calculated_host_listings_count</th>\n",
       "      <th>availability_365</th>\n",
       "      <th>number_of_reviews_ltm</th>\n",
       "      <th>days_since_last_review</th>\n",
       "      <th>price</th>\n",
       "      <th>minimum_nights</th>\n",
       "      <th>number_of_reviews</th>\n",
       "      <th>reviews_per_month</th>\n",
       "      <th>calculated_host_listings_count</th>\n",
       "      <th>availability_365</th>\n",
       "      <th>number_of_reviews_ltm</th>\n",
       "      <th>days_since_last_review</th>\n",
       "      <th>price</th>\n",
       "    </tr>\n",
       "  </thead>\n",
       "  <tbody>\n",
       "    <tr>\n",
       "      <th>0</th>\n",
       "      <td>High</td>\n",
       "      <td>Entire home/apt</td>\n",
       "      <td>0.00000</td>\n",
       "      <td>0.000000</td>\n",
       "      <td>0.019665</td>\n",
       "      <td>0.0</td>\n",
       "      <td>0.0</td>\n",
       "      <td>0.0</td>\n",
       "      <td>0.097945</td>\n",
       "      <td>0.132653</td>\n",
       "      <td>0.00459</td>\n",
       "      <td>0.012828</td>\n",
       "      <td>0.021518</td>\n",
       "      <td>0.039853</td>\n",
       "      <td>0.341737</td>\n",
       "      <td>0.00609</td>\n",
       "      <td>0.11088</td>\n",
       "      <td>0.171643</td>\n",
       "    </tr>\n",
       "    <tr>\n",
       "      <th>1</th>\n",
       "      <td>Middle</td>\n",
       "      <td>Private room</td>\n",
       "      <td>0.00000</td>\n",
       "      <td>0.000000</td>\n",
       "      <td>0.019291</td>\n",
       "      <td>0.0</td>\n",
       "      <td>0.0</td>\n",
       "      <td>0.0</td>\n",
       "      <td>0.001712</td>\n",
       "      <td>0.030612</td>\n",
       "      <td>0.002044</td>\n",
       "      <td>0.024879</td>\n",
       "      <td>0.022628</td>\n",
       "      <td>0.013835</td>\n",
       "      <td>0.35387</td>\n",
       "      <td>0.013008</td>\n",
       "      <td>0.094729</td>\n",
       "      <td>0.057675</td>\n",
       "    </tr>\n",
       "    <tr>\n",
       "      <th>2</th>\n",
       "      <td>Middle</td>\n",
       "      <td>Entire home/apt</td>\n",
       "      <td>0.00089</td>\n",
       "      <td>0.000876</td>\n",
       "      <td>0.000390</td>\n",
       "      <td>0.0</td>\n",
       "      <td>0.0</td>\n",
       "      <td>0.0</td>\n",
       "      <td>0.001712</td>\n",
       "      <td>0.081633</td>\n",
       "      <td>0.006327</td>\n",
       "      <td>0.010325</td>\n",
       "      <td>0.00884</td>\n",
       "      <td>0.034955</td>\n",
       "      <td>0.211589</td>\n",
       "      <td>0.003809</td>\n",
       "      <td>0.212024</td>\n",
       "      <td>0.134529</td>\n",
       "    </tr>\n",
       "  </tbody>\n",
       "</table>\n",
       "</div>"
      ],
      "text/plain": [
       "  neigborhood_cat        room_type minimum_nights number_of_reviews  \\\n",
       "0            High  Entire home/apt        0.00000          0.000000   \n",
       "1          Middle     Private room        0.00000          0.000000   \n",
       "2          Middle  Entire home/apt        0.00089          0.000876   \n",
       "\n",
       "  reviews_per_month calculated_host_listings_count availability_365  \\\n",
       "0          0.019665                            0.0              0.0   \n",
       "1          0.019291                            0.0              0.0   \n",
       "2          0.000390                            0.0              0.0   \n",
       "\n",
       "  number_of_reviews_ltm days_since_last_review     price minimum_nights  \\\n",
       "0                   0.0               0.097945  0.132653        0.00459   \n",
       "1                   0.0               0.001712  0.030612       0.002044   \n",
       "2                   0.0               0.001712  0.081633       0.006327   \n",
       "\n",
       "  number_of_reviews reviews_per_month calculated_host_listings_count  \\\n",
       "0          0.012828          0.021518                       0.039853   \n",
       "1          0.024879          0.022628                       0.013835   \n",
       "2          0.010325           0.00884                       0.034955   \n",
       "\n",
       "  availability_365 number_of_reviews_ltm days_since_last_review     price  \n",
       "0         0.341737               0.00609                0.11088  0.171643  \n",
       "1          0.35387              0.013008               0.094729  0.057675  \n",
       "2         0.211589              0.003809               0.212024  0.134529  "
      ]
     },
     "execution_count": 18,
     "metadata": {},
     "output_type": "execute_result"
    }
   ],
   "source": [
    "c3, d3 = find_centroids(train, 3)\n",
    "c3"
   ]
  },
  {
   "cell_type": "code",
   "execution_count": 19,
   "id": "a14f560f",
   "metadata": {},
   "outputs": [
    {
     "data": {
      "text/plain": [
       "21681.76107513633"
      ]
     },
     "execution_count": 19,
     "metadata": {},
     "output_type": "execute_result"
    }
   ],
   "source": [
    "c4, d4 = find_centroids(train, 4)\n",
    "d4"
   ]
  },
  {
   "cell_type": "code",
   "execution_count": 55,
   "id": "94c2754a",
   "metadata": {},
   "outputs": [
    {
     "data": {
      "text/plain": [
       "18707.5105697343"
      ]
     },
     "execution_count": 55,
     "metadata": {},
     "output_type": "execute_result"
    }
   ],
   "source": [
    "c6, d6 = find_centroids(train, 6)\n",
    "d6"
   ]
  },
  {
   "cell_type": "code",
   "execution_count": 60,
   "id": "471b1c5e",
   "metadata": {},
   "outputs": [
    {
     "data": {
      "text/plain": [
       "10"
      ]
     },
     "execution_count": 60,
     "metadata": {},
     "output_type": "execute_result"
    }
   ],
   "source": [
    "len(train.columns)"
   ]
  },
  {
   "cell_type": "code",
   "execution_count": 61,
   "id": "91a56f91",
   "metadata": {},
   "outputs": [],
   "source": [
    "D = []\n",
    "for i in range(1,20):\n",
    "    c, d = find_centroids(train, i)\n",
    "    D.append(d)"
   ]
  },
  {
   "cell_type": "code",
   "execution_count": 62,
   "id": "a61174db",
   "metadata": {},
   "outputs": [
    {
     "data": {
      "text/plain": [
       "array([176.02696164, 155.90612774, 155.30394524, 151.68579698,\n",
       "       138.24062861, 136.77540192, 135.25183313, 126.75374444,\n",
       "       115.85027105, 110.87990089, 109.27961015, 104.90418418,\n",
       "       101.92523583,  99.57377123,  99.41897389,  99.11367556,\n",
       "        99.09905398,  98.08574123,  97.9253825 ])"
      ]
     },
     "execution_count": 62,
     "metadata": {},
     "output_type": "execute_result"
    }
   ],
   "source": [
    "np.sqrt(D)"
   ]
  },
  {
   "cell_type": "code",
   "execution_count": 66,
   "id": "6da9474e",
   "metadata": {},
   "outputs": [
    {
     "data": {
      "text/plain": [
       "Text(0, 0.5, 'Squared Root Distance')"
      ]
     },
     "execution_count": 66,
     "metadata": {},
     "output_type": "execute_result"
    },
    {
     "data": {
      "image/png": "[encoded data removed]",
      "text/plain": [
       "<Figure size 432x288 with 1 Axes>"
      ]
     },
     "metadata": {
      "needs_background": "light"
     },
     "output_type": "display_data"
    }
   ],
   "source": [
    "import matplotlib.pyplot as plt\n",
    "plt.plot(np.linspace(1,19,19), np.sqrt(D))\n",
    "#plt.title('Squared Root Distance v.s. Number of Clusters')\n",
    "plt.xlabel('Number of Clusters')\n",
    "plt.ylabel('Squared Root Distance')"
   ]
  },
  {
   "cell_type": "code",
   "execution_count": 40,
   "id": "4039ad4e",
   "metadata": {},
   "outputs": [],
   "source": [
    "cluster = np.zeros(n)\n",
    "        \n",
    "d = distance_matrix(train, centroids, 5)\n",
    "        \n",
    "# assign cluster\n",
    "for i in range(n):\n",
    "    cluster[i] = np.where(d[i] == d[i].min())[0][0]\n",
    "            #print(cluster[i])\n",
    "            \n",
    "cluster = cluster.astype(int)\n",
    "dist = 0\n",
    "for i in range(n):\n",
    "    dist = dist + d[i, cluster[i]]\n",
    "\n",
    "temp_num = pd.DataFrame(columns=train.columns[2:])\n",
    "for i in range(5):\n",
    "    temp_num = temp_num.append(train[cluster == i].iloc[:, num].mean(axis = 0,skipna=True), ignore_index=True)\n",
    "    \n",
    "\n",
    "temp_cat = pd.DataFrame(columns = train.columns[[0,1]])\n",
    "        # for categorical features, update centroid with mode\n",
    "for i in range(5):\n",
    "    temp_cat = temp_cat.append(train[cluster == i].mode(), ignore_index=True)\n",
    "    \n",
    "centroids = pd.concat([temp_cat, temp_num], axis = 1)"
   ]
  },
  {
   "cell_type": "code",
   "execution_count": 41,
   "id": "6da6ad83",
   "metadata": {},
   "outputs": [
    {
     "data": {
      "text/plain": [
       "18024.96955128412"
      ]
     },
     "execution_count": 41,
     "metadata": {},
     "output_type": "execute_result"
    }
   ],
   "source": [
    "dist"
   ]
  },
  {
   "cell_type": "code",
   "execution_count": 42,
   "id": "0b1f4c74",
   "metadata": {},
   "outputs": [
    {
     "data": {
      "text/html": [
       "<div>\n",
       "<style scoped>\n",
       "    .dataframe tbody tr th:only-of-type {\n",
       "        vertical-align: middle;\n",
       "    }\n",
       "\n",
       "    .dataframe tbody tr th {\n",
       "        vertical-align: top;\n",
       "    }\n",
       "\n",
       "    .dataframe thead th {\n",
       "        text-align: right;\n",
       "    }\n",
       "</style>\n",
       "<table border=\"1\" class=\"dataframe\">\n",
       "  <thead>\n",
       "    <tr style=\"text-align: right;\">\n",
       "      <th></th>\n",
       "      <th>neigborhood_cat</th>\n",
       "      <th>room_type</th>\n",
       "      <th>minimum_nights</th>\n",
       "      <th>number_of_reviews</th>\n",
       "      <th>reviews_per_month</th>\n",
       "      <th>calculated_host_listings_count</th>\n",
       "      <th>availability_365</th>\n",
       "      <th>number_of_reviews_ltm</th>\n",
       "      <th>days_since_last_review</th>\n",
       "      <th>price</th>\n",
       "      <th>minimum_nights</th>\n",
       "      <th>number_of_reviews</th>\n",
       "      <th>reviews_per_month</th>\n",
       "      <th>calculated_host_listings_count</th>\n",
       "      <th>availability_365</th>\n",
       "      <th>number_of_reviews_ltm</th>\n",
       "      <th>days_since_last_review</th>\n",
       "      <th>price</th>\n",
       "    </tr>\n",
       "  </thead>\n",
       "  <tbody>\n",
       "    <tr>\n",
       "      <th>0</th>\n",
       "      <td>High</td>\n",
       "      <td>Entire home/apt</td>\n",
       "      <td>0.000000</td>\n",
       "      <td>0.000000</td>\n",
       "      <td>0.019665</td>\n",
       "      <td>0.0</td>\n",
       "      <td>1.0</td>\n",
       "      <td>0.0</td>\n",
       "      <td>0.097945</td>\n",
       "      <td>0.081633</td>\n",
       "      <td>0.007874</td>\n",
       "      <td>0.016489</td>\n",
       "      <td>0.020714</td>\n",
       "      <td>0.047563</td>\n",
       "      <td>0.838565</td>\n",
       "      <td>0.009512</td>\n",
       "      <td>0.069333</td>\n",
       "      <td>0.180708</td>\n",
       "    </tr>\n",
       "    <tr>\n",
       "      <th>1</th>\n",
       "      <td>Middle</td>\n",
       "      <td>Private room</td>\n",
       "      <td>0.000000</td>\n",
       "      <td>0.000000</td>\n",
       "      <td>0.000195</td>\n",
       "      <td>0.0</td>\n",
       "      <td>0.0</td>\n",
       "      <td>0.0</td>\n",
       "      <td>0.211307</td>\n",
       "      <td>0.020408</td>\n",
       "      <td>0.003099</td>\n",
       "      <td>0.015773</td>\n",
       "      <td>0.015065</td>\n",
       "      <td>0.0088</td>\n",
       "      <td>0.159909</td>\n",
       "      <td>0.005863</td>\n",
       "      <td>0.240854</td>\n",
       "      <td>0.050318</td>\n",
       "    </tr>\n",
       "    <tr>\n",
       "      <th>2</th>\n",
       "      <td>High</td>\n",
       "      <td>Entire home/apt</td>\n",
       "      <td>0.001779</td>\n",
       "      <td>0.000000</td>\n",
       "      <td>0.019665</td>\n",
       "      <td>0.0</td>\n",
       "      <td>0.0</td>\n",
       "      <td>0.0</td>\n",
       "      <td>0.097945</td>\n",
       "      <td>0.081633</td>\n",
       "      <td>0.00337</td>\n",
       "      <td>0.008852</td>\n",
       "      <td>0.015856</td>\n",
       "      <td>0.037695</td>\n",
       "      <td>0.088567</td>\n",
       "      <td>0.003464</td>\n",
       "      <td>0.140519</td>\n",
       "      <td>0.157241</td>\n",
       "    </tr>\n",
       "    <tr>\n",
       "      <th>3</th>\n",
       "      <td>Middle</td>\n",
       "      <td>Entire home/apt</td>\n",
       "      <td>0.000890</td>\n",
       "      <td>0.000876</td>\n",
       "      <td>0.019291</td>\n",
       "      <td>0.0</td>\n",
       "      <td>0.0</td>\n",
       "      <td>0.0</td>\n",
       "      <td>0.001712</td>\n",
       "      <td>0.081633</td>\n",
       "      <td>0.002731</td>\n",
       "      <td>0.020254</td>\n",
       "      <td>0.020054</td>\n",
       "      <td>0.03434</td>\n",
       "      <td>0.212624</td>\n",
       "      <td>0.010827</td>\n",
       "      <td>0.08693</td>\n",
       "      <td>0.135244</td>\n",
       "    </tr>\n",
       "    <tr>\n",
       "      <th>4</th>\n",
       "      <td>High</td>\n",
       "      <td>Entire home/apt</td>\n",
       "      <td>0.003559</td>\n",
       "      <td>0.000000</td>\n",
       "      <td>0.000390</td>\n",
       "      <td>0.0</td>\n",
       "      <td>0.0</td>\n",
       "      <td>0.0</td>\n",
       "      <td>0.104072</td>\n",
       "      <td>0.081633</td>\n",
       "      <td>0.00973</td>\n",
       "      <td>0.008653</td>\n",
       "      <td>0.009823</td>\n",
       "      <td>0.045934</td>\n",
       "      <td>0.207848</td>\n",
       "      <td>0.003239</td>\n",
       "      <td>0.125209</td>\n",
       "      <td>0.177204</td>\n",
       "    </tr>\n",
       "  </tbody>\n",
       "</table>\n",
       "</div>"
      ],
      "text/plain": [
       "  neigborhood_cat        room_type minimum_nights number_of_reviews  \\\n",
       "0            High  Entire home/apt       0.000000          0.000000   \n",
       "1          Middle     Private room       0.000000          0.000000   \n",
       "2            High  Entire home/apt       0.001779          0.000000   \n",
       "3          Middle  Entire home/apt       0.000890          0.000876   \n",
       "4            High  Entire home/apt       0.003559          0.000000   \n",
       "\n",
       "  reviews_per_month calculated_host_listings_count availability_365  \\\n",
       "0          0.019665                            0.0              1.0   \n",
       "1          0.000195                            0.0              0.0   \n",
       "2          0.019665                            0.0              0.0   \n",
       "3          0.019291                            0.0              0.0   \n",
       "4          0.000390                            0.0              0.0   \n",
       "\n",
       "  number_of_reviews_ltm days_since_last_review     price minimum_nights  \\\n",
       "0                   0.0               0.097945  0.081633       0.007874   \n",
       "1                   0.0               0.211307  0.020408       0.003099   \n",
       "2                   0.0               0.097945  0.081633        0.00337   \n",
       "3                   0.0               0.001712  0.081633       0.002731   \n",
       "4                   0.0               0.104072  0.081633        0.00973   \n",
       "\n",
       "  number_of_reviews reviews_per_month calculated_host_listings_count  \\\n",
       "0          0.016489          0.020714                       0.047563   \n",
       "1          0.015773          0.015065                         0.0088   \n",
       "2          0.008852          0.015856                       0.037695   \n",
       "3          0.020254          0.020054                        0.03434   \n",
       "4          0.008653          0.009823                       0.045934   \n",
       "\n",
       "  availability_365 number_of_reviews_ltm days_since_last_review     price  \n",
       "0         0.838565              0.009512               0.069333  0.180708  \n",
       "1         0.159909              0.005863               0.240854  0.050318  \n",
       "2         0.088567              0.003464               0.140519  0.157241  \n",
       "3         0.212624              0.010827                0.08693  0.135244  \n",
       "4         0.207848              0.003239               0.125209  0.177204  "
      ]
     },
     "execution_count": 42,
     "metadata": {},
     "output_type": "execute_result"
    }
   ],
   "source": [
    "centroids"
   ]
  },
  {
   "cell_type": "code",
   "execution_count": 43,
   "id": "7a02e573",
   "metadata": {},
   "outputs": [],
   "source": [
    "cluster = np.zeros(n)\n",
    "        \n",
    "d = distance_matrix(train, centroids, 5)\n",
    "        \n",
    "# assign cluster\n",
    "for i in range(n):\n",
    "    cluster[i] = np.where(d[i] == d[i].min())[0][0]\n",
    "            #print(cluster[i])\n",
    "            \n",
    "cluster = cluster.astype(int)\n",
    "dist = 0\n",
    "for i in range(n):\n",
    "    dist = dist + d[i, cluster[i]]\n",
    "\n",
    "temp_num = pd.DataFrame(columns=train.columns[2:])\n",
    "for i in range(5):\n",
    "    temp_num = temp_num.append(train[cluster == i].iloc[:, num].mean(axis = 0,skipna=True), ignore_index=True)\n",
    "    \n",
    "\n",
    "temp_cat = pd.DataFrame(columns = train.columns[[0,1]])\n",
    "        # for categorical features, update centroid with mode\n",
    "for i in range(5):\n",
    "    temp_cat = temp_cat.append(train[cluster == i].mode(), ignore_index=True)\n",
    "    \n",
    "centroids = pd.concat([temp_cat, temp_num], axis = 1)"
   ]
  },
  {
   "cell_type": "code",
   "execution_count": 44,
   "id": "c6c8d5de",
   "metadata": {},
   "outputs": [
    {
     "data": {
      "text/plain": [
       "17231.604429038474"
      ]
     },
     "execution_count": 44,
     "metadata": {},
     "output_type": "execute_result"
    }
   ],
   "source": [
    "dist"
   ]
  },
  {
   "cell_type": "code",
   "execution_count": 45,
   "id": "42602e4f",
   "metadata": {},
   "outputs": [
    {
     "data": {
      "text/html": [
       "<div>\n",
       "<style scoped>\n",
       "    .dataframe tbody tr th:only-of-type {\n",
       "        vertical-align: middle;\n",
       "    }\n",
       "\n",
       "    .dataframe tbody tr th {\n",
       "        vertical-align: top;\n",
       "    }\n",
       "\n",
       "    .dataframe thead th {\n",
       "        text-align: right;\n",
       "    }\n",
       "</style>\n",
       "<table border=\"1\" class=\"dataframe\">\n",
       "  <thead>\n",
       "    <tr style=\"text-align: right;\">\n",
       "      <th></th>\n",
       "      <th>neigborhood_cat</th>\n",
       "      <th>room_type</th>\n",
       "      <th>minimum_nights</th>\n",
       "      <th>number_of_reviews</th>\n",
       "      <th>reviews_per_month</th>\n",
       "      <th>calculated_host_listings_count</th>\n",
       "      <th>availability_365</th>\n",
       "      <th>number_of_reviews_ltm</th>\n",
       "      <th>days_since_last_review</th>\n",
       "      <th>price</th>\n",
       "      <th>minimum_nights</th>\n",
       "      <th>number_of_reviews</th>\n",
       "      <th>reviews_per_month</th>\n",
       "      <th>calculated_host_listings_count</th>\n",
       "      <th>availability_365</th>\n",
       "      <th>number_of_reviews_ltm</th>\n",
       "      <th>days_since_last_review</th>\n",
       "      <th>price</th>\n",
       "    </tr>\n",
       "  </thead>\n",
       "  <tbody>\n",
       "    <tr>\n",
       "      <th>0</th>\n",
       "      <td>High</td>\n",
       "      <td>Entire home/apt</td>\n",
       "      <td>0.000000</td>\n",
       "      <td>0.000000</td>\n",
       "      <td>0.019665</td>\n",
       "      <td>0.0</td>\n",
       "      <td>1.0</td>\n",
       "      <td>0.0</td>\n",
       "      <td>0.097945</td>\n",
       "      <td>0.081633</td>\n",
       "      <td>0.007497</td>\n",
       "      <td>0.016406</td>\n",
       "      <td>0.021981</td>\n",
       "      <td>0.046917</td>\n",
       "      <td>0.730409</td>\n",
       "      <td>0.00973</td>\n",
       "      <td>0.069727</td>\n",
       "      <td>0.170977</td>\n",
       "    </tr>\n",
       "    <tr>\n",
       "      <th>1</th>\n",
       "      <td>Middle</td>\n",
       "      <td>Private room</td>\n",
       "      <td>0.000000</td>\n",
       "      <td>0.000000</td>\n",
       "      <td>0.000195</td>\n",
       "      <td>0.0</td>\n",
       "      <td>0.0</td>\n",
       "      <td>0.0</td>\n",
       "      <td>0.211307</td>\n",
       "      <td>0.020408</td>\n",
       "      <td>0.003077</td>\n",
       "      <td>0.01585</td>\n",
       "      <td>0.015119</td>\n",
       "      <td>0.008846</td>\n",
       "      <td>0.160943</td>\n",
       "      <td>0.005925</td>\n",
       "      <td>0.241184</td>\n",
       "      <td>0.051019</td>\n",
       "    </tr>\n",
       "    <tr>\n",
       "      <th>2</th>\n",
       "      <td>High</td>\n",
       "      <td>Entire home/apt</td>\n",
       "      <td>0.001779</td>\n",
       "      <td>0.000000</td>\n",
       "      <td>0.019665</td>\n",
       "      <td>0.0</td>\n",
       "      <td>0.0</td>\n",
       "      <td>0.0</td>\n",
       "      <td>0.097945</td>\n",
       "      <td>0.132653</td>\n",
       "      <td>0.003059</td>\n",
       "      <td>0.012073</td>\n",
       "      <td>0.016591</td>\n",
       "      <td>0.03746</td>\n",
       "      <td>0.243114</td>\n",
       "      <td>0.005647</td>\n",
       "      <td>0.118987</td>\n",
       "      <td>0.164148</td>\n",
       "    </tr>\n",
       "    <tr>\n",
       "      <th>3</th>\n",
       "      <td>Middle</td>\n",
       "      <td>Entire home/apt</td>\n",
       "      <td>0.000890</td>\n",
       "      <td>0.000876</td>\n",
       "      <td>0.019291</td>\n",
       "      <td>0.0</td>\n",
       "      <td>0.0</td>\n",
       "      <td>0.0</td>\n",
       "      <td>0.001712</td>\n",
       "      <td>0.081633</td>\n",
       "      <td>0.002948</td>\n",
       "      <td>0.019964</td>\n",
       "      <td>0.01869</td>\n",
       "      <td>0.034145</td>\n",
       "      <td>0.213799</td>\n",
       "      <td>0.010172</td>\n",
       "      <td>0.092763</td>\n",
       "      <td>0.132558</td>\n",
       "    </tr>\n",
       "    <tr>\n",
       "      <th>4</th>\n",
       "      <td>Middle</td>\n",
       "      <td>Entire home/apt</td>\n",
       "      <td>0.003559</td>\n",
       "      <td>0.000000</td>\n",
       "      <td>0.015985</td>\n",
       "      <td>0.0</td>\n",
       "      <td>0.0</td>\n",
       "      <td>0.0</td>\n",
       "      <td>0.157114</td>\n",
       "      <td>0.081633</td>\n",
       "      <td>0.009155</td>\n",
       "      <td>0.006621</td>\n",
       "      <td>0.011545</td>\n",
       "      <td>0.045013</td>\n",
       "      <td>0.182183</td>\n",
       "      <td>0.00239</td>\n",
       "      <td>0.137424</td>\n",
       "      <td>0.179941</td>\n",
       "    </tr>\n",
       "  </tbody>\n",
       "</table>\n",
       "</div>"
      ],
      "text/plain": [
       "  neigborhood_cat        room_type minimum_nights number_of_reviews  \\\n",
       "0            High  Entire home/apt       0.000000          0.000000   \n",
       "1          Middle     Private room       0.000000          0.000000   \n",
       "2            High  Entire home/apt       0.001779          0.000000   \n",
       "3          Middle  Entire home/apt       0.000890          0.000876   \n",
       "4          Middle  Entire home/apt       0.003559          0.000000   \n",
       "\n",
       "  reviews_per_month calculated_host_listings_count availability_365  \\\n",
       "0          0.019665                            0.0              1.0   \n",
       "1          0.000195                            0.0              0.0   \n",
       "2          0.019665                            0.0              0.0   \n",
       "3          0.019291                            0.0              0.0   \n",
       "4          0.015985                            0.0              0.0   \n",
       "\n",
       "  number_of_reviews_ltm days_since_last_review     price minimum_nights  \\\n",
       "0                   0.0               0.097945  0.081633       0.007497   \n",
       "1                   0.0               0.211307  0.020408       0.003077   \n",
       "2                   0.0               0.097945  0.132653       0.003059   \n",
       "3                   0.0               0.001712  0.081633       0.002948   \n",
       "4                   0.0               0.157114  0.081633       0.009155   \n",
       "\n",
       "  number_of_reviews reviews_per_month calculated_host_listings_count  \\\n",
       "0          0.016406          0.021981                       0.046917   \n",
       "1           0.01585          0.015119                       0.008846   \n",
       "2          0.012073          0.016591                        0.03746   \n",
       "3          0.019964           0.01869                       0.034145   \n",
       "4          0.006621          0.011545                       0.045013   \n",
       "\n",
       "  availability_365 number_of_reviews_ltm days_since_last_review     price  \n",
       "0         0.730409               0.00973               0.069727  0.170977  \n",
       "1         0.160943              0.005925               0.241184  0.051019  \n",
       "2         0.243114              0.005647               0.118987  0.164148  \n",
       "3         0.213799              0.010172               0.092763  0.132558  \n",
       "4         0.182183               0.00239               0.137424  0.179941  "
      ]
     },
     "execution_count": 45,
     "metadata": {},
     "output_type": "execute_result"
    }
   ],
   "source": [
    "centroids"
   ]
  },
  {
   "cell_type": "code",
   "execution_count": 46,
   "id": "7fc48863",
   "metadata": {},
   "outputs": [],
   "source": [
    "cluster = np.zeros(n)\n",
    "        \n",
    "d = distance_matrix(train, centroids, 5)\n",
    "        \n",
    "# assign cluster\n",
    "for i in range(n):\n",
    "    cluster[i] = np.where(d[i] == d[i].min())[0][0]\n",
    "            #print(cluster[i])\n",
    "            \n",
    "cluster = cluster.astype(int)\n",
    "dist = 0\n",
    "for i in range(n):\n",
    "    dist = dist + d[i, cluster[i]]\n",
    "\n",
    "temp_num = pd.DataFrame(columns=train.columns[2:])\n",
    "for i in range(5):\n",
    "    temp_num = temp_num.append(train[cluster == i].iloc[:, num].mean(axis = 0,skipna=True), ignore_index=True)\n",
    "    \n",
    "\n",
    "temp_cat = pd.DataFrame(columns = train.columns[[0,1]])\n",
    "        # for categorical features, update centroid with mode\n",
    "for i in range(5):\n",
    "    temp_cat = temp_cat.append(train[cluster == i].mode(), ignore_index=True)\n",
    "    \n",
    "centroids = pd.concat([temp_cat, temp_num], axis = 1)"
   ]
  },
  {
   "cell_type": "code",
   "execution_count": 47,
   "id": "25271e7d",
   "metadata": {},
   "outputs": [
    {
     "data": {
      "text/plain": [
       "17185.409085046827"
      ]
     },
     "execution_count": 47,
     "metadata": {},
     "output_type": "execute_result"
    }
   ],
   "source": [
    "dist"
   ]
  },
  {
   "cell_type": "code",
   "execution_count": 50,
   "id": "68dba860",
   "metadata": {},
   "outputs": [],
   "source": [
    "# initialize random centroids\n",
    "random.seed(10)\n",
    "idx = random.choices(train.index, k = 5)\n",
    "centroids = train.iloc[idx, :]\n",
    "\n",
    "tol = 0.00001\n",
    "dist_prev_iter = 0\n",
    "dist= 1\n",
    "iterations = 0\n",
    "    \n",
    "while(dist_prev_iter - dist) > tol:\n",
    "    dist_prev_iter = dist\n",
    "    dist = 0\n",
    "    n = len(train)\n",
    "    cluster = np.zeros(n)\n",
    "        \n",
    "    d = distance_matrix(train, centroids, 5)\n",
    "        \n",
    "        # assign cluster\n",
    "    for i in range(n):\n",
    "        cluster[i] = np.where(d[i] == d[i].min())[0][0]\n",
    "        #print(cluster[i])\n",
    "            \n",
    "    cluster = cluster.astype(int)\n",
    "            \n",
    "        \n",
    "        # sum distance to centroids\n",
    "    for i in range(n):\n",
    "        dist = dist + d[i, cluster[i]]\n",
    "            \n",
    "        \n",
    "        # update centroid\n",
    "        # for numerical features, update centroid with average value\n",
    "    temp_num = pd.DataFrame(columns=train.columns[2:])\n",
    "    for i in range(5):\n",
    "        temp_num = temp_num.append(train[cluster == i].iloc[:, num].mean(axis = 0,skipna=True), ignore_index=True)\n",
    "            \n",
    "        #print(temp_num)\n",
    "        \n",
    "    temp_cat = pd.DataFrame(columns = train.columns[[0,1]])\n",
    "        # for categorical features, update centroid with mode\n",
    "    for i in range(5):\n",
    "        temp_cat = temp_cat.append(train[cluster == i].mode(), ignore_index=True)\n",
    "            \n",
    "        #print(temp_cat)\n",
    "       \n",
    "    centroids = pd.concat([temp_cat, temp_num], axis = 1)\n",
    "        #print(centroids)\n",
    "        \n",
    "    iterations += 1\n",
    "        "
   ]
  },
  {
   "cell_type": "code",
   "execution_count": null,
   "id": "e5d13a6b",
   "metadata": {},
   "outputs": [],
   "source": []
  }
 ],
 "metadata": {
  "kernelspec": {
   "display_name": "Python 3 (ipykernel)",
   "language": "python",
   "name": "python3"
  },
  "language_info": {
   "codemirror_mode": {
    "name": "ipython",
    "version": 3
   },
   "file_extension": ".py",
   "mimetype": "text/x-python",
   "name": "python",
   "nbconvert_exporter": "python",
   "pygments_lexer": "ipython3",
   "version": "3.9.7"
  }
 },
 "nbformat": 4,
 "nbformat_minor": 5
}
